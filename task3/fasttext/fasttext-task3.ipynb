{
 "cells": [
  {
   "cell_type": "markdown",
   "metadata": {},
   "source": [
    "# Tarea 3: clasificar fundamentos segun su modo"
   ]
  },
  {
   "cell_type": "markdown",
   "metadata": {},
   "source": [
    "## Consideramos los modelos precomputados"
   ]
  },
  {
   "cell_type": "markdown",
   "metadata": {},
   "source": [
    "<p>Carga los modelos creados previamente (OJO, cargar los modelos de vectores preentrendos puede tardar mucho y usar mucha memoria porque pesa 1GB cada uno)</p>"
   ]
  },
  {
   "cell_type": "code",
   "execution_count": 7,
   "metadata": {
    "collapsed": false
   },
   "outputs": [],
   "source": [
    "# we assume models are already created\n",
    "# these are the global variables used when computing all the metrics\n",
    "# best models in with no pretrained vectors in _model_<tema>_best_at_<k>.bin\n",
    "# best models in with pretrained vectors in _model_<tema>_best_at_<k>.bin\n",
    "\n",
    "import fasttext\n",
    "\n",
    "_dataDir = \"../../data/tarea3/\"\n",
    "_models_task3 = \"./\"\n",
    "ftlabel = \"__label__\"\n",
    "\n",
    "# prefix and suffixes for the models to load\n",
    "model_no_ptvec = \"_model_\"\n",
    "model_ptvec = \"_model_ptvec_\"\n",
    "model_no_ptvec_f1 = \"_model_f1_\"\n",
    "model_no_ptvec_f1_wn2 = \"_model_f1_wn2_\"\n",
    "model_no_ptvec_f1_wn3 = \"_model_f1_wn3_\"\n",
    "model_ptvec_f1 = \"_model_f1_ptvec_\"\n",
    "model_ptvec_f1_wn2 = \"_model_f1_ptvec_wn2_\"\n",
    "\n",
    "# what models to consider\n",
    "# m_prefixes = [model_no_ptvec]\n",
    "model_names = [model_no_ptvec, model_ptvec, model_no_ptvec_f1, model_ptvec_f1, \n",
    "               model_no_ptvec_f1_wn2, model_no_ptvec_f1_wn3, model_ptvec_f1_wn2]\n",
    "model_labels = ['npt','ptv','nf1','pf1','nf2','nf3','pf2']"
   ]
  },
  {
   "cell_type": "code",
   "execution_count": 8,
   "metadata": {
    "collapsed": false
   },
   "outputs": [],
   "source": []
  },
  {
   "cell_type": "markdown",
   "metadata": {},
   "source": [
    "<p>Ahora carga los datos para ajustar los modelos. Cargamos solo test set y dev set</p>"
   ]
  },
  {
   "cell_type": "code",
   "execution_count": 10,
   "metadata": {
    "collapsed": false
   },
   "outputs": [],
   "source": [
    "# load data to predict\n",
    "\n",
    "import string\n",
    "\n",
    "def read_text_file_for_ft_input(filename):\n",
    "    with open(filename) as f:\n",
    "        out = []\n",
    "        for line in f:\n",
    "            # keep tab to separate original concepts from justifications\n",
    "            strdata = \"\".join([c for c in line[:-1] if c not in string.punctuation or c == '\\t']).lower()\n",
    "            if strdata == '':\n",
    "                strdata = ' '\n",
    "            out.append(strdata)\n",
    "    return out\n",
    "\n",
    "def read_numbers_file_for_ft_input(filename):\n",
    "    with open(filename) as f:\n",
    "        out = []\n",
    "        for line in f:\n",
    "            out.append(int(line))\n",
    "    return out\n",
    "\n",
    "train_x = {}\n",
    "train_y = {}\n",
    "\n",
    "test_x = {}\n",
    "test_y = {}\n",
    "\n",
    "dev_x = {}\n",
    "dev_y = {}\n",
    "\n",
    "\n",
    "train_x = read_text_file_for_ft_input(\n",
    "        _dataDir + \"x_train_modo.txt\")\n",
    "train_y = read_numbers_file_for_ft_input(\n",
    "        _dataDir + \"y_train_modo.txt\")\n",
    "test_x = read_text_file_for_ft_input(\n",
    "        _dataDir + \"x_test_modo.txt\")\n",
    "test_y = read_numbers_file_for_ft_input(\n",
    "        _dataDir + \"y_test_modo.txt\")\n",
    "dev_x = read_text_file_for_ft_input(\n",
    "        _dataDir + \"x_dev_modo.txt\")\n",
    "dev_y = read_numbers_file_for_ft_input(\n",
    "        _dataDir + \"y_dev_modo.txt\")\n",
    "\n",
    "modos = []\n",
    "# load categories first\n",
    "modosFile = _dataDir + \"modos.txt\"\n",
    "with open(modosFile) as f:\n",
    "    for line in f:\n",
    "        modos.append(line[:-1])"
   ]
  },
  {
   "cell_type": "markdown",
   "metadata": {},
   "source": [
    "<p>Computa las predicciones con cada uno de los modelos</p>"
   ]
  },
  {
   "cell_type": "code",
   "execution_count": 11,
   "metadata": {
    "collapsed": false
   },
   "outputs": [],
   "source": [
    "size = 3\n",
    "\n",
    "predictions_train_with_labels = {}\n",
    "predictions_dev_with_labels = {}\n",
    "predictions_with_labels = {}\n",
    "\n",
    "for model_name in model_names:\n",
    "    model = fasttext.load_model(_models_task3 + model_name + \"best.bin\")\n",
    "    predictions_with_labels[model_name] = model.predict(\n",
    "            test_x,k = size)\n",
    "    predictions_dev_with_labels[model_name] = model.predict(\n",
    "            dev_x,k = size)\n",
    "    predictions_train_with_labels[model_name] = model.predict(\n",
    "            train_x,k = size)\n",
    "\n",
    "    \n",
    "predictions = {}\n",
    "predictions_dev = {}\n",
    "predictions_train = {}\n",
    "\n",
    "# cambia las predicciones del tipo <ftlabel><C> a simplemente <C>\n",
    "for model_name in model_names:\n",
    "    predictions_dev[model_name] = []\n",
    "    predictions[model_name] = []\n",
    "    predictions_train[model_name] = []\n",
    "    for pred_list_labels in predictions_with_labels[model_name]:\n",
    "        pred_list = []\n",
    "        for label in pred_list_labels:\n",
    "            pred_list.append(int(label[len(ftlabel):]))\n",
    "        predictions[model_name].append(pred_list)\n",
    "    predictions_dev[model_name] = []\n",
    "    for pred_list_labels in predictions_dev_with_labels[model_name]:\n",
    "        pred_list = []\n",
    "        for label in pred_list_labels:\n",
    "            pred_list.append(int(label[len(ftlabel):]))\n",
    "        predictions_dev[model_name].append(pred_list)\n",
    "    for pred_list_labels in predictions_train_with_labels[model_name]:\n",
    "        pred_list = []\n",
    "        for label in pred_list_labels:\n",
    "            pred_list.append(int(label[len(ftlabel):]))\n",
    "        predictions_train[model_name].append(pred_list)\n",
    "\n",
    "            \n",
    "# utility function to select the first prediction from a list of predictions and generate a 1D list of single predictions\n",
    "def first_prediction(lists_of_predictions):\n",
    "    out = []\n",
    "    for predictions in lists_of_predictions:\n",
    "        out.append(predictions[0])\n",
    "    return out      "
   ]
  },
  {
   "cell_type": "markdown",
   "metadata": {},
   "source": [
    "## Genera reportes"
   ]
  },
  {
   "cell_type": "code",
   "execution_count": 12,
   "metadata": {
    "collapsed": false,
    "scrolled": false
   },
   "outputs": [
    {
     "name": "stdout",
     "output_type": "stream",
     "text": [
      "\t\trecavg\tprecavg\tf1avg\tf1macro\n",
      "train-npt\t82.07\t80.64\t80.73\t65.59\n",
      "devs-npt\t80.65\t78.93\t79.13\t62.72\n",
      "test-npt\t80.93\t79.23\t79.41\t62.85\n",
      "train-ptv\t82.04\t80.57\t80.66\t65.03\n",
      "devs-ptv\t80.87\t79.14\t79.33\t62.6\n",
      "test-ptv\t81.08\t79.42\t79.61\t63.01\n",
      "train-nf1\t82.83\t81.59\t81.71\t67.73\n",
      "devs-nf1\t80.48\t78.81\t79.14\t63.05\n",
      "test-nf1\t80.98\t79.38\t79.68\t63.28\n",
      "train-pf1\t82.11\t80.67\t80.83\t65.45\n",
      "devs-pf1\t80.82\t79.14\t79.38\t62.99\n",
      "test-pf1\t81.08\t79.45\t79.7\t63.29\n",
      "train-nf2\t91.02\t90.72\t90.74\t82.64\n",
      "devs-nf2\t80.64\t79.35\t79.77\t64.08\n",
      "test-nf2\t81.08\t79.84\t80.22\t64.79\n",
      "train-nf3\t98.87\t98.87\t98.87\t97.84\n",
      "devs-nf3\t80.17\t78.79\t79.23\t63.09\n",
      "test-nf3\t80.04\t78.64\t79.1\t62.69\n",
      "train-pf2\t89.54\t89.14\t89.15\t80.1\n",
      "devs-pf2\t81.21\t79.88\t80.26\t64.69\n",
      "test-pf2\t81.57\t80.31\t80.66\t65.37\n",
      "\n"
     ]
    }
   ],
   "source": [
    "from sklearn import metrics\n",
    "\n",
    "\n",
    "print(\"\\t\\trecavg\\tprecavg\\tf1avg\\tf1macro\")\n",
    "for model, model_name in zip(model_names,model_labels):\n",
    "    for pred,gold,set_name in zip(\n",
    "        [predictions_train[model],predictions_dev[model],predictions[model]],\n",
    "        [train_y,dev_y,test_y],\n",
    "        ['train','devs','test']):\n",
    "        prediction = first_prediction(pred)\n",
    "        str_data = set_name + \"-\" + model_name\n",
    "#        acc = round(100*metrics.accuracy_score(gold,prediction),2)\n",
    "#        str_data += \"\\t\"+ str(acc)\n",
    "        rec = round(100*metrics.recall_score(gold,prediction,average='weighted'),2)\n",
    "        str_data += \"\\t\"+ str(rec)\n",
    "        prec = round(100*metrics.precision_score(gold,prediction,average='weighted'),2)\n",
    "        str_data += \"\\t\"+str(prec)\n",
    "        f1a = round(100*metrics.f1_score(gold,prediction,average='weighted'),2)\n",
    "        str_data += \"\\t\"+str(f1a)\n",
    "        f1m = round(100*metrics.f1_score(gold,prediction,average='macro'),2)\n",
    "        str_data += \"\\t\"+str(f1m)\n",
    "\n",
    "        print(str_data)\n",
    "print()\n",
    "\n",
    "            "
   ]
  },
  {
   "cell_type": "code",
   "execution_count": null,
   "metadata": {
    "collapsed": false
   },
   "outputs": [],
   "source": []
  }
 ],
 "metadata": {
  "anaconda-cloud": {},
  "kernelspec": {
   "display_name": "Python 3",
   "language": "python",
   "name": "python3"
  },
  "language_info": {
   "codemirror_mode": {
    "name": "ipython",
    "version": 3
   },
   "file_extension": ".py",
   "mimetype": "text/x-python",
   "name": "python",
   "nbconvert_exporter": "python",
   "pygments_lexer": "ipython3",
   "version": "3.5.2"
  }
 },
 "nbformat": 4,
 "nbformat_minor": 1
}
