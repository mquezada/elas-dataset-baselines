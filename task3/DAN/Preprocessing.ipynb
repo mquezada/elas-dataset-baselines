{
 "cells": [
  {
   "cell_type": "markdown",
   "metadata": {},
   "source": [
    "## Objetivo: \n",
    "\n",
    "- Obtener conversión única de los argumentos desde palabras a números \n",
    "- Crear matriz (embedding layer) con los vectores de fasttext en las posiciones respectivas a la conversión anterior."
   ]
  },
  {
   "cell_type": "code",
   "execution_count": 1,
   "metadata": {},
   "outputs": [
    {
     "name": "stderr",
     "output_type": "stream",
     "text": [
      "Using TensorFlow backend.\n"
     ]
    }
   ],
   "source": [
    "import pandas as pd\n",
    "import numpy as np\n",
    "import logging\n",
    "from itertools import product\n",
    "import unicodedata\n",
    "import re\n",
    "\n",
    "from sklearn.preprocessing import LabelEncoder\n",
    "from sklearn.model_selection import train_test_split\n",
    "\n",
    "from keras.utils import np_utils\n",
    "from keras import regularizers\n",
    "from keras.models import Sequential\n",
    "from keras.optimizers import SGD\n",
    "from keras import regularizers\n",
    "from keras.models import load_model, Model\n",
    "from keras.layers import Dense, Dropout, Input, Embedding, Lambda\n",
    "from keras import backend as K\n",
    "from keras.utils import to_categorical\n",
    "from keras.preprocessing.text import Tokenizer\n",
    "from keras.preprocessing.sequence import pad_sequences\n",
    "from keras.preprocessing.text import text_to_word_sequence"
   ]
  },
  {
   "cell_type": "code",
   "execution_count": 3,
   "metadata": {},
   "outputs": [],
   "source": [
    "from gensim.models.wrappers import FastText\n",
    "model = FastText.load_fasttext_format('../../word_vectors/wiki.es')"
   ]
  },
  {
   "cell_type": "code",
   "execution_count": 4,
   "metadata": {
    "collapsed": true
   },
   "outputs": [],
   "source": [
    "EMBEDDING_DIM = 300"
   ]
  },
  {
   "cell_type": "markdown",
   "metadata": {},
   "source": [
    "### Load data"
   ]
  },
  {
   "cell_type": "code",
   "execution_count": 15,
   "metadata": {
    "collapsed": true
   },
   "outputs": [],
   "source": [
    "df = {}\n",
    "for set_ in ['train', 'dev', 'test']:\n",
    "    filename = '../../data/tarea3/x_'+set_+'_modo.txt'\n",
    "    with open(filename) as f:\n",
    "        data = f.readlines()\n",
    "    df[set_] = [row[:-1] for row in data]"
   ]
  },
  {
   "cell_type": "code",
   "execution_count": 20,
   "metadata": {},
   "outputs": [
    {
     "name": "stdout",
     "output_type": "stream",
     "text": [
      "Que se respete el espíritu de la ley y esta no se pueda interpretar de forma fraudulenta o malintencionada. Implica leyes bien redactadas.\n",
      "Una sociedad no puede ser democrática si las decisiones no están basadas en posturas informadas, es por esto que el acceso a la información debe ser considerada un pilar de la vida en democracia\n"
     ]
    }
   ],
   "source": [
    "print df['train'][0]\n",
    "print df['dev'][0]"
   ]
  },
  {
   "cell_type": "code",
   "execution_count": 17,
   "metadata": {
    "collapsed": true
   },
   "outputs": [],
   "source": [
    "df_x = []\n",
    "for set_ in ['train', 'dev', 'test']:\n",
    "    df_x += df[set_]"
   ]
  },
  {
   "cell_type": "code",
   "execution_count": 19,
   "metadata": {},
   "outputs": [
    {
     "name": "stdout",
     "output_type": "stream",
     "text": [
      "Que se respete el espíritu de la ley y esta no se pueda interpretar de forma fraudulenta o malintencionada. Implica leyes bien redactadas.\n",
      "Una sociedad no puede ser democrática si las decisiones no están basadas en posturas informadas, es por esto que el acceso a la información debe ser considerada un pilar de la vida en democracia\n"
     ]
    }
   ],
   "source": [
    "print df_x[0]\n",
    "print df_x[len(df['train'])]"
   ]
  },
  {
   "cell_type": "code",
   "execution_count": 21,
   "metadata": {},
   "outputs": [
    {
     "name": "stdout",
     "output_type": "stream",
     "text": [
      "que se respete el espíritu de la ley y esta no se pueda interpretar de forma fraudulenta o malintencionada implica leyes bien redactadas\n",
      "fortalecer la independencia y neutralidad de las instituciones\n",
      "respeto e inclusión a un otro en especial a las mujeres la falta de equidad de género promueve la segregación favorecer la co parentalidad cuidados personales para un impacto positivo para la infancia\n"
     ]
    }
   ],
   "source": [
    "import string\n",
    "\n",
    "# arguments (X) from unicode to str\n",
    "# ignore puntuaction, ñ, accents\n",
    "# OJO: solo ignoramos puntuación, mantenemos acentos y ñs\n",
    "arguments = []\n",
    "for argument in df_x:\n",
    "    # esto es para sacarle la puntuación y que sea de forma standard con keras\n",
    "    in_string =  \" \".join(text_to_word_sequence(argument))\n",
    "    arguments.append(in_string)\n",
    "print((arguments[indices['tarea10train']]))\n",
    "print((arguments[indices['tarea10dev']]))\n",
    "print((arguments[indices['tarea11train']]))"
   ]
  },
  {
   "cell_type": "code",
   "execution_count": 22,
   "metadata": {},
   "outputs": [
    {
     "name": "stdout",
     "output_type": "stream",
     "text": [
      "[4, 11, 449, 5, 1860, 1, 2, 61, 3, 82, 15, 11, 221, 4217, 1, 68, 29030, 36, 41044, 377, 57, 64, 9515]\n"
     ]
    }
   ],
   "source": [
    "# words to numbers (start with 1)\n",
    "tokenizer = Tokenizer()\n",
    "tokenizer.fit_on_texts(arguments) # ignore blank spaces, commas, points etc.\n",
    "X = tokenizer.texts_to_sequences(arguments)\n",
    "print (X[0])"
   ]
  },
  {
   "cell_type": "code",
   "execution_count": 23,
   "metadata": {
    "collapsed": true
   },
   "outputs": [],
   "source": [
    "import pickle\n",
    "pickle.dump(tokenizer.word_index, open(\"dan_preprocessing_data/dict_word_to_num.p\", \"wb\"))"
   ]
  },
  {
   "cell_type": "code",
   "execution_count": 24,
   "metadata": {
    "collapsed": true
   },
   "outputs": [],
   "source": [
    "# embedding matrix\n",
    "# matrix with fasttext vectors, where vector in index i is the corresponding of word i in the tokenizer\n",
    "index2word_set = set(model.wv.index2word)\n",
    "word_index = tokenizer.word_index\n",
    "embedding_matrix = np.zeros((len(word_index) + 1, EMBEDDING_DIM))\n",
    "for word, i in word_index.items():\n",
    "    if word in index2word_set: \n",
    "        # words not found in embedding index will be all-zeros.\n",
    "        embedding_vector = model[word]\n",
    "        embedding_matrix[i] = embedding_vector"
   ]
  },
  {
   "cell_type": "code",
   "execution_count": 25,
   "metadata": {
    "collapsed": true
   },
   "outputs": [],
   "source": [
    "# save weights matrix\n",
    "np.savetxt('dan_preprocessing_data/embedding_matrix.txt', embedding_matrix, fmt='%f')\n",
    "# b = np.loadtxt('my_data/embedding_matrix.txt', dtype=int)"
   ]
  },
  {
   "cell_type": "code",
   "execution_count": 26,
   "metadata": {},
   "outputs": [
    {
     "name": "stdout",
     "output_type": "stream",
     "text": [
      "42398\n",
      "(42399, 300)\n"
     ]
    }
   ],
   "source": [
    "print (len(word_index))\n",
    "print (embedding_matrix.shape)"
   ]
  },
  {
   "cell_type": "code",
   "execution_count": null,
   "metadata": {
    "collapsed": true
   },
   "outputs": [],
   "source": [
    "##### OJO:\n",
    "##### sin acentos el vocabulario es de tamaño 38224\n",
    "##### con acentos hay 3400 palabras más! 41656"
   ]
  }
 ],
 "metadata": {
  "anaconda-cloud": {},
  "kernelspec": {
   "display_name": "tensorflow",
   "language": "python",
   "name": "tensorflow"
  },
  "language_info": {
   "codemirror_mode": {
    "name": "ipython",
    "version": 2
   },
   "file_extension": ".py",
   "mimetype": "text/x-python",
   "name": "python",
   "nbconvert_exporter": "python",
   "pygments_lexer": "ipython2",
   "version": "2.7.13"
  }
 },
 "nbformat": 4,
 "nbformat_minor": 2
}
