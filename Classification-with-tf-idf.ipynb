{
 "cells": [
  {
   "cell_type": "code",
   "execution_count": 1,
   "metadata": {
    "collapsed": true
   },
   "outputs": [],
   "source": [
    "%load_ext watermark"
   ]
  },
  {
   "cell_type": "code",
   "execution_count": 2,
   "metadata": {
    "collapsed": false
   },
   "outputs": [
    {
     "name": "stdout",
     "output_type": "stream",
     "text": [
      "2017-05-15T17:15:32-04:00\n",
      "\n",
      "CPython 3.6.0\n",
      "IPython 5.3.0\n",
      "\n",
      "compiler   : GCC 4.2.1 Compatible Apple LLVM 6.0 (clang-600.0.57)\n",
      "system     : Darwin\n",
      "release    : 16.5.0\n",
      "machine    : x86_64\n",
      "processor  : i386\n",
      "CPU cores  : 4\n",
      "interpreter: 64bit\n"
     ]
    }
   ],
   "source": [
    "%watermark"
   ]
  },
  {
   "cell_type": "code",
   "execution_count": 87,
   "metadata": {
    "collapsed": true
   },
   "outputs": [],
   "source": [
    "from tf_idf import preprocess_fundamentos\n",
    "from sklearn import model_selection\n",
    "from tqdm import tqdm, trange\n",
    "from sklearn.metrics import classification_report\n",
    "from sklearn.neighbors import KNeighborsClassifier\n",
    "from collections import Counter, defaultdict\n",
    "from operator import itemgetter\n",
    "\n",
    "from sqlalchemy import create_engine\n",
    "from sqlalchemy.orm import sessionmaker\n",
    "from models import UDP\n",
    "import logging\n",
    "import random\n",
    "import pandas as pd\n",
    "import numpy as np\n",
    "\n",
    "from sklearn.dummy import DummyClassifier\n",
    "from sklearn.svm import SVC  # support vector machine classifier\n",
    "from sklearn.tree import DecisionTreeClassifier\n",
    "from sklearn.naive_bayes import GaussianNB  # naive bayes\n",
    "from sklearn.neighbors import KNeighborsClassifier"
   ]
  },
  {
   "cell_type": "code",
   "execution_count": 35,
   "metadata": {
    "collapsed": false,
    "scrolled": true
   },
   "outputs": [],
   "source": [
    "logger = logging.getLogger(__name__)\n",
    "\n",
    "engine = create_engine('mysql://root@localhost/constabierta')\n",
    "_session = sessionmaker(bind=engine, autocommit=True, expire_on_commit=True)\n",
    "session = _session()\n",
    "\n",
    "documents = session.query(UDP).all()\n",
    "SEED = 1"
   ]
  },
  {
   "cell_type": "code",
   "execution_count": 45,
   "metadata": {
    "collapsed": false
   },
   "outputs": [
    {
     "name": "stderr",
     "output_type": "stream",
     "text": [
      "100%|██████████| 51867/51867 [06:34<00:00, 131.60it/s] \n"
     ]
    }
   ],
   "source": [
    "# esto demora 5 minutos aprox\n",
    "X, processed_texts, y, le = preprocess_fundamentos(documents)"
   ]
  },
  {
   "cell_type": "code",
   "execution_count": 62,
   "metadata": {
    "collapsed": false
   },
   "outputs": [],
   "source": [
    "X_train, X_test, y_train, y_test = model_selection.train_test_split(X, y, test_size=.33, random_state=SEED)\n",
    "\n",
    "docs_df = pd.DataFrame({'fundamento': [doc.fundamento for doc in documents],\n",
    "                        'fund_proc': processed_texts,\n",
    "                        'label': le.inverse_transform(y), \n",
    "                        'y': y})"
   ]
  },
  {
   "cell_type": "markdown",
   "metadata": {},
   "source": [
    "# Exploración"
   ]
  },
  {
   "cell_type": "code",
   "execution_count": 83,
   "metadata": {
    "collapsed": false
   },
   "outputs": [
    {
     "name": "stdout",
     "output_type": "stream",
     "text": [
      "total rows (fundamento): 51867\n",
      "total cols (vocabulary): 13222\n"
     ]
    }
   ],
   "source": [
    "print(f\"total rows (fundamento): {X.shape[0]}\")\n",
    "print(f\"total cols (vocabulary): {X.shape[1]}\")"
   ]
  },
  {
   "cell_type": "markdown",
   "metadata": {},
   "source": [
    "## Muestra de fundamentos"
   ]
  },
  {
   "cell_type": "code",
   "execution_count": 84,
   "metadata": {
    "collapsed": false
   },
   "outputs": [
    {
     "data": {
      "text/html": [
       "<div>\n",
       "<table border=\"1\" class=\"dataframe\">\n",
       "  <thead>\n",
       "    <tr style=\"text-align: right;\">\n",
       "      <th></th>\n",
       "      <th>fund_proc</th>\n",
       "      <th>fundamento</th>\n",
       "      <th>label</th>\n",
       "      <th>y</th>\n",
       "    </tr>\n",
       "  </thead>\n",
       "  <tbody>\n",
       "    <tr>\n",
       "      <th>36977</th>\n",
       "      <td>[derech, cad, ciudadan, vist, respet, igual, independient, gener, exist, iguald, salari, derech, reproduct, trabaj, salud, etc]</td>\n",
       "      <td>DERECHO A QUE CADA CIUDADANO SEA VISTO Y RESPETADO COMO IGUAL, INDEPENDIENTE DE SU GENERO, QUE EXISTA IGUALDAD EN SALARIOS, DERECHOS REPRODUCTIVOS, TRABAJO, SALUD, ETC.</td>\n",
       "      <td>propositivo</td>\n",
       "      <td>7</td>\n",
       "    </tr>\n",
       "    <tr>\n",
       "      <th>15635</th>\n",
       "      <td>[deb, ten, cuent, condicion, pod, ejerc, derech]</td>\n",
       "      <td>se debe tener en cuenta condiciones para poder ejercer el derecho</td>\n",
       "      <td>propositivo</td>\n",
       "      <td>7</td>\n",
       "    </tr>\n",
       "    <tr>\n",
       "      <th>22369</th>\n",
       "      <td>[respet, lug, dond, sent, bas, vid, republ]</td>\n",
       "      <td>Respetar el lugar dónde sentamos las bases de nuestra vida y nuestra república.</td>\n",
       "      <td>indeterminado</td>\n",
       "      <td>6</td>\n",
       "    </tr>\n",
       "    <tr>\n",
       "      <th>1471</th>\n",
       "      <td>[derech, fundamental, garantiz, pais, exclus, econom, deb, ten, acces, dign, integral]</td>\n",
       "      <td>- Es un derecho fundamental no garantizado en el país y exclusivo desde lo económico. - Debería tener un acceso digno e integral.</td>\n",
       "      <td>factico.definicion</td>\n",
       "      <td>2</td>\n",
       "    </tr>\n",
       "    <tr>\n",
       "      <th>22192</th>\n",
       "      <td>[mas, derech, respet, naturalez, deb, consagr, derech, naturalez, ser, respet, derech, pers, aunqu, vec, impliqu, carec, ciert, cos, deb, cambi, cultur, antropocentr, ecocentr]</td>\n",
       "      <td>Mas que el derecho de \"respetar la naturaleza\", se debería consagrar el \"derecho de la naturaleza a ser respetada\", ya que esta tiene derechos perse, aunque a veces implique carecer de ciertas cosas. Se debe cambiar la cultura antropocentrica por una ecocentrica</td>\n",
       "      <td>propositivo</td>\n",
       "      <td>7</td>\n",
       "    </tr>\n",
       "  </tbody>\n",
       "</table>\n",
       "</div>"
      ],
      "text/plain": [
       "                                                                                                                                                                              fund_proc  \\\n",
       "36977  [derech, cad, ciudadan, vist, respet, igual, independient, gener, exist, iguald, salari, derech, reproduct, trabaj, salud, etc]                                                    \n",
       "15635  [deb, ten, cuent, condicion, pod, ejerc, derech]                                                                                                                                   \n",
       "22369  [respet, lug, dond, sent, bas, vid, republ]                                                                                                                                        \n",
       "1471   [derech, fundamental, garantiz, pais, exclus, econom, deb, ten, acces, dign, integral]                                                                                             \n",
       "22192  [mas, derech, respet, naturalez, deb, consagr, derech, naturalez, ser, respet, derech, pers, aunqu, vec, impliqu, carec, ciert, cos, deb, cambi, cultur, antropocentr, ecocentr]   \n",
       "\n",
       "                                                                                                                                                                                                                                                                   fundamento  \\\n",
       "36977  DERECHO A QUE CADA CIUDADANO SEA VISTO Y RESPETADO COMO IGUAL, INDEPENDIENTE DE SU GENERO, QUE EXISTA IGUALDAD EN SALARIOS, DERECHOS REPRODUCTIVOS, TRABAJO, SALUD, ETC.                                                                                                 \n",
       "15635  se debe tener en cuenta condiciones para poder ejercer el derecho                                                                                                                                                                                                        \n",
       "22369  Respetar el lugar dónde sentamos las bases de nuestra vida y nuestra república.                                                                                                                                                                                          \n",
       "1471   - Es un derecho fundamental no garantizado en el país y exclusivo desde lo económico. - Debería tener un acceso digno e integral.                                                                                                                                        \n",
       "22192  Mas que el derecho de \"respetar la naturaleza\", se debería consagrar el \"derecho de la naturaleza a ser respetada\", ya que esta tiene derechos perse, aunque a veces implique carecer de ciertas cosas. Se debe cambiar la cultura antropocentrica por una ecocentrica   \n",
       "\n",
       "                    label  y  \n",
       "36977  propositivo         7  \n",
       "15635  propositivo         7  \n",
       "22369  indeterminado       6  \n",
       "1471   factico.definicion  2  \n",
       "22192  propositivo         7  "
      ]
     },
     "execution_count": 84,
     "metadata": {},
     "output_type": "execute_result"
    }
   ],
   "source": [
    "k = 5\n",
    "pd.options.display.max_colwidth = 0\n",
    "\n",
    "rows = np.random.choice(docs_df.index.values, 5)\n",
    "docs_df.ix[rows]"
   ]
  },
  {
   "cell_type": "markdown",
   "metadata": {},
   "source": [
    "## Distribución de clases"
   ]
  },
  {
   "cell_type": "code",
   "execution_count": 71,
   "metadata": {
    "collapsed": false
   },
   "outputs": [
    {
     "data": {
      "text/plain": [
       "propositivo              34501\n",
       "factico.definicion       8999 \n",
       "indeterminado            3974 \n",
       "valorativo.pragmatico    2066 \n",
       "blanco                   1578 \n",
       "factico.causalidad       388  \n",
       "factico.prediccion       228  \n",
       "valorativo.negativo      55   \n",
       "valorativo.positivo      45   \n",
       "factico.pasado           31   \n",
       "valorativa.pragmatica    1    \n",
       "factico.negativo         1    \n",
       "Name: label, dtype: int64"
      ]
     },
     "execution_count": 71,
     "metadata": {},
     "output_type": "execute_result"
    }
   ],
   "source": [
    "docs_df['label'].value_counts()"
   ]
  },
  {
   "cell_type": "markdown",
   "metadata": {},
   "source": [
    "## Vocabulario"
   ]
  },
  {
   "cell_type": "code",
   "execution_count": 75,
   "metadata": {
    "collapsed": false
   },
   "outputs": [
    {
     "name": "stderr",
     "output_type": "stream",
     "text": [
      "100%|██████████| 51867/51867 [00:00<00:00, 109933.33it/s]\n"
     ]
    }
   ],
   "source": [
    "vocab = Counter()\n",
    "for tokens in tqdm(processed_texts):\n",
    "    for token in tokens:\n",
    "        vocab[token] += 1"
   ]
  },
  {
   "cell_type": "code",
   "execution_count": 82,
   "metadata": {
    "collapsed": false
   },
   "outputs": [
    {
     "data": {
      "text/html": [
       "<div>\n",
       "<table border=\"1\" class=\"dataframe\">\n",
       "  <thead>\n",
       "    <tr style=\"text-align: right;\">\n",
       "      <th></th>\n",
       "      <th>freq</th>\n",
       "      <th>word</th>\n",
       "    </tr>\n",
       "  </thead>\n",
       "  <tbody>\n",
       "    <tr>\n",
       "      <th>0</th>\n",
       "      <td>25495</td>\n",
       "      <td>derech</td>\n",
       "    </tr>\n",
       "    <tr>\n",
       "      <th>1</th>\n",
       "      <td>19617</td>\n",
       "      <td>deb</td>\n",
       "    </tr>\n",
       "    <tr>\n",
       "      <th>2</th>\n",
       "      <td>9281</td>\n",
       "      <td>ser</td>\n",
       "    </tr>\n",
       "    <tr>\n",
       "      <th>3</th>\n",
       "      <td>7857</td>\n",
       "      <td>person</td>\n",
       "    </tr>\n",
       "    <tr>\n",
       "      <th>4</th>\n",
       "      <td>7695</td>\n",
       "      <td>salud</td>\n",
       "    </tr>\n",
       "    <tr>\n",
       "      <th>5</th>\n",
       "      <td>7320</td>\n",
       "      <td>calid</td>\n",
       "    </tr>\n",
       "    <tr>\n",
       "      <th>6</th>\n",
       "      <td>6718</td>\n",
       "      <td>garantiz</td>\n",
       "    </tr>\n",
       "    <tr>\n",
       "      <th>7</th>\n",
       "      <td>6709</td>\n",
       "      <td>educ</td>\n",
       "    </tr>\n",
       "    <tr>\n",
       "      <th>8</th>\n",
       "      <td>5959</td>\n",
       "      <td>vid</td>\n",
       "    </tr>\n",
       "    <tr>\n",
       "      <th>9</th>\n",
       "      <td>5876</td>\n",
       "      <td>tod</td>\n",
       "    </tr>\n",
       "  </tbody>\n",
       "</table>\n",
       "</div>"
      ],
      "text/plain": [
       "    freq      word\n",
       "0  25495  derech  \n",
       "1  19617  deb     \n",
       "2  9281   ser     \n",
       "3  7857   person  \n",
       "4  7695   salud   \n",
       "5  7320   calid   \n",
       "6  6718   garantiz\n",
       "7  6709   educ    \n",
       "8  5959   vid     \n",
       "9  5876   tod     "
      ]
     },
     "execution_count": 82,
     "metadata": {},
     "output_type": "execute_result"
    }
   ],
   "source": [
    "k = 10\n",
    "tmp = pd.DataFrame({'word': list(map(itemgetter(0), vocab.most_common(k))),\n",
    "                    'freq': list(map(itemgetter(1), vocab.most_common(k)))})\n",
    "tmp"
   ]
  },
  {
   "cell_type": "markdown",
   "metadata": {},
   "source": [
    "# Clasificación"
   ]
  },
  {
   "cell_type": "code",
   "execution_count": 98,
   "metadata": {
    "collapsed": false
   },
   "outputs": [],
   "source": [
    "c0 = (\"Base\", DummyClassifier(strategy='stratified'))\n",
    "c1 = (\"SVM\", SVC(kernel='rbf'))\n",
    "c1b = (\"SVM\", SVC(kernel='linear'))\n",
    "c2 = (\"DT\", DecisionTreeClassifier())\n",
    "c3 = (\"NB\", GaussianNB())\n",
    "c4 = (\"KNN\", KNeighborsClassifier(n_neighbors=5))"
   ]
  },
  {
   "cell_type": "markdown",
   "metadata": {},
   "source": [
    "# Dummy Classifier (Baseline)"
   ]
  },
  {
   "cell_type": "code",
   "execution_count": 91,
   "metadata": {
    "collapsed": false
   },
   "outputs": [
    {
     "name": "stdout",
     "output_type": "stream",
     "text": [
      "Base\n",
      "                       precision    recall  f1-score   support\n",
      "\n",
      "               blanco       0.03      0.03      0.03       527\n",
      "   factico.causalidad       0.00      0.00      0.00       110\n",
      "   factico.definicion       0.18      0.18      0.18      2981\n",
      "     factico.negativo       0.00      0.00      0.00         9\n",
      "       factico.pasado       0.01      0.02      0.01        66\n",
      "   factico.prediccion       0.08      0.07      0.07      1370\n",
      "        indeterminado       0.66      0.67      0.66     11350\n",
      "          propositivo       0.00      0.00      0.00         0\n",
      "valorativa.pragmatica       0.00      0.00      0.00        20\n",
      "  valorativo.negativo       0.00      0.00      0.00        13\n",
      "  valorativo.positivo       0.04      0.04      0.04       671\n",
      "\n",
      "          avg / total       0.48      0.48      0.48     17117\n",
      "\n"
     ]
    },
    {
     "name": "stderr",
     "output_type": "stream",
     "text": [
      "/Users/mquezada/anaconda3/envs/ams/lib/python3.6/site-packages/sklearn/metrics/classification.py:1115: UndefinedMetricWarning: Recall and F-score are ill-defined and being set to 0.0 in labels with no true samples.\n",
      "  'recall', 'true', average, warn_for)\n"
     ]
    }
   ],
   "source": [
    "print(c0[0])\n",
    "clf = c0[1]\n",
    "\n",
    "clf.fit(X_train, y_train)\n",
    "y_pred = clf.predict(X_test)\n",
    "print(classification_report(y_test, y_pred, target_names=target_names))"
   ]
  },
  {
   "cell_type": "markdown",
   "metadata": {},
   "source": [
    "## SVM (RBF)"
   ]
  },
  {
   "cell_type": "code",
   "execution_count": 92,
   "metadata": {
    "collapsed": false
   },
   "outputs": [
    {
     "name": "stdout",
     "output_type": "stream",
     "text": [
      "SVM\n",
      "                       precision    recall  f1-score   support\n",
      "\n",
      "               blanco       0.00      0.00      0.00       527\n",
      "   factico.causalidad       0.00      0.00      0.00       110\n",
      "   factico.definicion       0.00      0.00      0.00      2981\n",
      "     factico.negativo       0.00      0.00      0.00         9\n",
      "       factico.pasado       0.00      0.00      0.00        66\n",
      "   factico.prediccion       0.00      0.00      0.00      1370\n",
      "        indeterminado       0.66      1.00      0.80     11350\n",
      "          propositivo       0.00      0.00      0.00        20\n",
      "valorativa.pragmatica       0.00      0.00      0.00        13\n",
      "  valorativo.negativo       0.00      0.00      0.00       671\n",
      "\n",
      "          avg / total       0.44      0.66      0.53     17117\n",
      "\n"
     ]
    },
    {
     "name": "stderr",
     "output_type": "stream",
     "text": [
      "/Users/mquezada/anaconda3/envs/ams/lib/python3.6/site-packages/sklearn/metrics/classification.py:1113: UndefinedMetricWarning: Precision and F-score are ill-defined and being set to 0.0 in labels with no predicted samples.\n",
      "  'precision', 'predicted', average, warn_for)\n"
     ]
    }
   ],
   "source": [
    "print(c1[0])\n",
    "clf = c1[1]\n",
    "\n",
    "clf.fit(X_train, y_train)\n",
    "y_pred = clf.predict(X_test)\n",
    "print(classification_report(y_test, y_pred, target_names=target_names))"
   ]
  },
  {
   "cell_type": "markdown",
   "metadata": {},
   "source": [
    "## SVM (linear)"
   ]
  },
  {
   "cell_type": "code",
   "execution_count": 100,
   "metadata": {
    "collapsed": false
   },
   "outputs": [
    {
     "name": "stdout",
     "output_type": "stream",
     "text": [
      "SVM\n",
      "                       precision    recall  f1-score   support\n",
      "\n",
      "               blanco       0.59      0.44      0.50       527\n",
      "   factico.causalidad       0.00      0.00      0.00       110\n",
      "   factico.definicion       0.55      0.24      0.34      2981\n",
      "     factico.negativo       0.00      0.00      0.00         9\n",
      "       factico.pasado       0.00      0.00      0.00        66\n",
      "   factico.prediccion       0.40      0.03      0.05      1370\n",
      "        indeterminado       0.72      0.97      0.83     11350\n",
      "          propositivo       0.00      0.00      0.00        20\n",
      "valorativa.pragmatica       0.00      0.00      0.00        13\n",
      "  valorativo.negativo       0.39      0.03      0.05       671\n",
      "\n",
      "          avg / total       0.64      0.70      0.63     17117\n",
      "\n"
     ]
    },
    {
     "name": "stderr",
     "output_type": "stream",
     "text": [
      "/Users/mquezada/anaconda3/envs/ams/lib/python3.6/site-packages/sklearn/metrics/classification.py:1113: UndefinedMetricWarning: Precision and F-score are ill-defined and being set to 0.0 in labels with no predicted samples.\n",
      "  'precision', 'predicted', average, warn_for)\n"
     ]
    }
   ],
   "source": [
    "print(c1b[0])\n",
    "clf = c1b[1]\n",
    "\n",
    "clf.fit(X_train, y_train)\n",
    "y_pred = clf.predict(X_test)\n",
    "print(classification_report(y_test, y_pred, target_names=target_names))"
   ]
  },
  {
   "cell_type": "markdown",
   "metadata": {},
   "source": [
    "## Decision Tree"
   ]
  },
  {
   "cell_type": "code",
   "execution_count": 93,
   "metadata": {
    "collapsed": false
   },
   "outputs": [
    {
     "name": "stdout",
     "output_type": "stream",
     "text": [
      "DT\n",
      "                       precision    recall  f1-score   support\n",
      "\n",
      "               blanco       0.47      0.71      0.56       527\n",
      "   factico.causalidad       0.03      0.02      0.02       110\n",
      "   factico.definicion       0.37      0.34      0.36      2981\n",
      "     factico.negativo       0.00      0.00      0.00         0\n",
      "       factico.pasado       0.12      0.11      0.12         9\n",
      "   factico.prediccion       0.02      0.02      0.02        66\n",
      "        indeterminado       0.20      0.12      0.15      1370\n",
      "          propositivo       0.77      0.82      0.79     11350\n",
      "valorativa.pragmatica       0.00      0.00      0.00        20\n",
      "  valorativo.negativo       0.00      0.00      0.00        13\n",
      "  valorativo.positivo       0.20      0.14      0.16       671\n",
      "\n",
      "          avg / total       0.61      0.64      0.62     17117\n",
      "\n"
     ]
    },
    {
     "name": "stderr",
     "output_type": "stream",
     "text": [
      "/Users/mquezada/anaconda3/envs/ams/lib/python3.6/site-packages/sklearn/metrics/classification.py:1115: UndefinedMetricWarning: Recall and F-score are ill-defined and being set to 0.0 in labels with no true samples.\n",
      "  'recall', 'true', average, warn_for)\n"
     ]
    }
   ],
   "source": [
    "print(c2[0])\n",
    "clf = c2[1]\n",
    "\n",
    "clf.fit(X_train, y_train)\n",
    "y_pred = clf.predict(X_test)\n",
    "print(classification_report(y_test, y_pred, target_names=target_names))"
   ]
  },
  {
   "cell_type": "markdown",
   "metadata": {},
   "source": [
    "## Gaussian Naive Bayes"
   ]
  },
  {
   "cell_type": "code",
   "execution_count": 97,
   "metadata": {
    "collapsed": false
   },
   "outputs": [
    {
     "name": "stdout",
     "output_type": "stream",
     "text": [
      "NB\n",
      "                       precision    recall  f1-score   support\n",
      "\n",
      "               blanco       0.15      0.27      0.19       527\n",
      "   factico.causalidad       0.01      0.19      0.02       110\n",
      "   factico.definicion       0.17      0.12      0.14      2981\n",
      "     factico.negativo       0.00      0.11      0.00         9\n",
      "       factico.pasado       0.00      0.20      0.01        66\n",
      "   factico.prediccion       0.09      0.19      0.12      1370\n",
      "        indeterminado       0.72      0.12      0.20     11350\n",
      "          propositivo       0.00      0.00      0.00        20\n",
      "valorativa.pragmatica       0.00      0.15      0.01        13\n",
      "  valorativo.negativo       0.05      0.28      0.09       671\n",
      "\n",
      "          avg / total       0.52      0.13      0.18     17117\n",
      "\n"
     ]
    }
   ],
   "source": [
    "print(c3[0])\n",
    "clf = c3[1]\n",
    "\n",
    "clf.fit(X_train.toarray(), y_train)\n",
    "y_pred = clf.predict(X_test.toarray())\n",
    "print(classification_report(y_test, y_pred, target_names=target_names))"
   ]
  },
  {
   "cell_type": "markdown",
   "metadata": {},
   "source": [
    "## KNN (k=5)"
   ]
  },
  {
   "cell_type": "code",
   "execution_count": 7,
   "metadata": {
    "collapsed": false,
    "scrolled": true
   },
   "outputs": [
    {
     "name": "stdout",
     "output_type": "stream",
     "text": [
      "                       precision    recall  f1-score   support\n",
      "\n",
      "               blanco       0.03      0.53      0.06       507\n",
      "   factico.causalidad       0.00      0.00      0.00       128\n",
      "   factico.definicion       0.41      0.17      0.24      3004\n",
      "     factico.negativo       0.00      0.00      0.00         1\n",
      "       factico.pasado       0.00      0.00      0.00         8\n",
      "   factico.prediccion       0.25      0.02      0.03        63\n",
      "        indeterminado       0.12      0.26      0.17      1306\n",
      "          propositivo       0.78      0.31      0.44     11399\n",
      "valorativa.pragmatica       0.00      0.00      0.00        21\n",
      "  valorativo.negativo       0.00      0.00      0.00        10\n",
      "  valorativo.positivo       0.49      0.05      0.09       670\n",
      "\n",
      "          avg / total       0.62      0.27      0.35     17117\n",
      "\n"
     ]
    },
    {
     "name": "stderr",
     "output_type": "stream",
     "text": [
      "/Users/mquezada/anaconda3/envs/ams/lib/python3.6/site-packages/sklearn/metrics/classification.py:1113: UndefinedMetricWarning: Precision and F-score are ill-defined and being set to 0.0 in labels with no predicted samples.\n",
      "  'precision', 'predicted', average, warn_for)\n"
     ]
    }
   ],
   "source": [
    "print(c4[0])\n",
    "clf = c4[1]\n",
    "\n",
    "clf.fit(X_train, y_train)\n",
    "y_pred = clf.predict(X_test)\n",
    "print(classification_report(y_test, y_pred, target_names=target_names))"
   ]
  },
  {
   "cell_type": "code",
   "execution_count": null,
   "metadata": {
    "collapsed": true
   },
   "outputs": [],
   "source": []
  }
 ],
 "metadata": {
  "kernelspec": {
   "display_name": "Python 3",
   "language": "python",
   "name": "python3"
  },
  "language_info": {
   "codemirror_mode": {
    "name": "ipython",
    "version": 3
   },
   "file_extension": ".py",
   "mimetype": "text/x-python",
   "name": "python",
   "nbconvert_exporter": "python",
   "pygments_lexer": "ipython3",
   "version": "3.6.0"
  }
 },
 "nbformat": 4,
 "nbformat_minor": 2
}
