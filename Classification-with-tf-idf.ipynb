{
 "cells": [
  {
   "cell_type": "code",
   "execution_count": 13,
   "metadata": {
    "collapsed": true
   },
   "outputs": [],
   "source": [
    "%load_ext watermark"
   ]
  },
  {
   "cell_type": "code",
   "execution_count": 14,
   "metadata": {
    "collapsed": false
   },
   "outputs": [
    {
     "name": "stdout",
     "output_type": "stream",
     "text": [
      "2017-05-15T16:46:12-04:00\n",
      "\n",
      "CPython 3.6.0\n",
      "IPython 5.3.0\n",
      "\n",
      "compiler   : GCC 4.2.1 Compatible Apple LLVM 6.0 (clang-600.0.57)\n",
      "system     : Darwin\n",
      "release    : 16.5.0\n",
      "machine    : x86_64\n",
      "processor  : i386\n",
      "CPU cores  : 4\n",
      "interpreter: 64bit\n"
     ]
    }
   ],
   "source": [
    "%watermark"
   ]
  },
  {
   "cell_type": "code",
   "execution_count": 23,
   "metadata": {
    "collapsed": true
   },
   "outputs": [],
   "source": [
    "from tf_idf import preprocess_fundamentos\n",
    "from sklearn import model_selection\n",
    "from tqdm import tqdm, trange\n",
    "from sklearn.metrics import classification_report\n",
    "from sklearn.neighbors import KNeighborsClassifier\n",
    "\n",
    "from models import UDP"
   ]
  },
  {
   "cell_type": "code",
   "execution_count": null,
   "metadata": {
    "collapsed": false,
    "scrolled": true
   },
   "outputs": [
    {
     "name": "stderr",
     "output_type": "stream",
     "text": [
      " 60%|██████    | 31130/51867 [03:11<01:56, 178.16it/s]"
     ]
    }
   ],
   "source": [
    "logger = logging.getLogger(__name__)\n",
    "\n",
    "engine = create_engine('mysql://root@localhost/constabierta')\n",
    "_session = sessionmaker(bind=engine, autocommit=True, expire_on_commit=True)\n",
    "session = _session()\n",
    "\n",
    "documents = session.query(UDP).all()\n",
    "SEED = 37\n",
    "\n",
    "X, processed_texts, y, le = preprocess_fundamentos(documents)"
   ]
  },
  {
   "cell_type": "code",
   "execution_count": 22,
   "metadata": {
    "collapsed": false
   },
   "outputs": [
    {
     "data": {
      "text/plain": [
       "array(['blanco', 'blanco ', 'factico.causalidad', 'factico.definicion',\n",
       "       'factico.definicion ', 'factico.definición', 'factico.negativo',\n",
       "       'factico.pasado', 'factico.prediccion', 'factico.prediccion ',\n",
       "       'indeterminado', 'propositivo', 'valorativa.pragmatica',\n",
       "       'valorativo.negativo', 'valorativo.positivo',\n",
       "       'valorativo.pragmatico'], \n",
       "      dtype='<U22')"
      ]
     },
     "execution_count": 22,
     "metadata": {},
     "output_type": "execute_result"
    }
   ],
   "source": [
    "X_train, X_test, y_train, y_test = model_selection.train_test_split(X, y, test_size=.33, random_state=SEED)\n",
    "target_names = le.inverse_transform(range(max(y)))"
   ]
  },
  {
   "cell_type": "markdown",
   "metadata": {},
   "source": [
    "# KNN @5"
   ]
  },
  {
   "cell_type": "code",
   "execution_count": 20,
   "metadata": {
    "collapsed": false
   },
   "outputs": [
    {
     "name": "stdout",
     "output_type": "stream",
     "text": [
      "                        precision    recall  f1-score   support\n",
      "\n",
      "                blanco       0.03      0.52      0.06       503\n",
      "         indeterminado       0.00      0.00      0.00         4\n",
      "         indeterminado       0.00      0.00      0.00       128\n",
      "           propositivo       0.41      0.17      0.24      2989\n",
      "           propositivo       0.00      0.00      0.00        14\n",
      "         indeterminado       0.00      0.00      0.00         1\n",
      "         indeterminado       0.00      0.00      0.00         1\n",
      "           propositivo       0.00      0.00      0.00         8\n",
      "           propositivo       0.25      0.02      0.03        63\n",
      "           propositivo       0.12      0.26      0.17      1306\n",
      "         indeterminado       0.78      0.31      0.44     11399\n",
      "           propositivo       0.00      0.00      0.00        21\n",
      "         indeterminado       0.00      0.00      0.00        10\n",
      "           propositivo       0.49      0.05      0.09       670\n",
      "\n",
      "           avg / total       0.62      0.27      0.35     17117\n",
      "\n"
     ]
    },
    {
     "name": "stderr",
     "output_type": "stream",
     "text": [
      "/Users/mquezada/anaconda3/envs/ams/lib/python3.6/site-packages/sklearn/metrics/classification.py:1113: UndefinedMetricWarning: Precision and F-score are ill-defined and being set to 0.0 in labels with no predicted samples.\n",
      "  'precision', 'predicted', average, warn_for)\n"
     ]
    }
   ],
   "source": [
    "n = 5\n",
    "knn = KNeighborsClassifier(n_neighbors=n)\n",
    "knn.fit(X_train, y_train)\n",
    "y_pred = knn.predict(X_test)\n",
    "print(classification_report(y_test, y_pred, target_names=target_names))"
   ]
  },
  {
   "cell_type": "code",
   "execution_count": null,
   "metadata": {
    "collapsed": true
   },
   "outputs": [],
   "source": []
  }
 ],
 "metadata": {
  "kernelspec": {
   "display_name": "Python 3",
   "language": "python",
   "name": "python3"
  },
  "language_info": {
   "codemirror_mode": {
    "name": "ipython",
    "version": 3
   },
   "file_extension": ".py",
   "mimetype": "text/x-python",
   "name": "python",
   "nbconvert_exporter": "python",
   "pygments_lexer": "ipython3",
   "version": "3.6.0"
  }
 },
 "nbformat": 4,
 "nbformat_minor": 2
}
