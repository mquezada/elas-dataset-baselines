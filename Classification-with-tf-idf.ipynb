{
 "cells": [
  {
   "cell_type": "code",
   "execution_count": 1,
   "metadata": {
    "collapsed": false,
    "deletable": true,
    "editable": true
   },
   "outputs": [],
   "source": [
    "%load_ext watermark"
   ]
  },
  {
   "cell_type": "code",
   "execution_count": 2,
   "metadata": {
    "collapsed": false,
    "deletable": true,
    "editable": true
   },
   "outputs": [
    {
     "name": "stdout",
     "output_type": "stream",
     "text": [
      "2017-05-15T22:36:49-04:00\n",
      "\n",
      "CPython 3.6.0\n",
      "IPython 5.3.0\n",
      "\n",
      "compiler   : GCC 4.2.1 Compatible Apple LLVM 6.0 (clang-600.0.57)\n",
      "system     : Darwin\n",
      "release    : 16.5.0\n",
      "machine    : x86_64\n",
      "processor  : i386\n",
      "CPU cores  : 4\n",
      "interpreter: 64bit\n"
     ]
    }
   ],
   "source": [
    "%watermark"
   ]
  },
  {
   "cell_type": "code",
   "execution_count": 3,
   "metadata": {
    "collapsed": true,
    "deletable": true,
    "editable": true
   },
   "outputs": [],
   "source": [
    "from tf_idf import preprocess_fundamentos, remove_accents\n",
    "from sklearn import model_selection\n",
    "from tqdm import tqdm, trange\n",
    "from sklearn.metrics import classification_report\n",
    "from sklearn.neighbors import KNeighborsClassifier\n",
    "from collections import Counter, defaultdict\n",
    "from operator import itemgetter\n",
    "\n",
    "from sqlalchemy import create_engine\n",
    "from sqlalchemy.orm import sessionmaker\n",
    "from models import UDP\n",
    "import logging\n",
    "import random\n",
    "import pandas as pd\n",
    "import numpy as np\n",
    "\n",
    "from sklearn.dummy import DummyClassifier\n",
    "from sklearn.svm import SVC  # support vector machine classifier\n",
    "from sklearn.tree import DecisionTreeClassifier\n",
    "from sklearn.naive_bayes import GaussianNB  # naive bayes\n",
    "from sklearn.neighbors import KNeighborsClassifier"
   ]
  },
  {
   "cell_type": "markdown",
   "metadata": {
    "deletable": true,
    "editable": true
   },
   "source": [
    "# Setup"
   ]
  },
  {
   "cell_type": "code",
   "execution_count": 4,
   "metadata": {
    "collapsed": false,
    "deletable": true,
    "editable": true,
    "scrolled": true
   },
   "outputs": [],
   "source": [
    "logger = logging.getLogger(__name__)\n",
    "\n",
    "engine = create_engine('mysql://root@localhost/constabierta')\n",
    "_session = sessionmaker(bind=engine, autocommit=True, expire_on_commit=True)\n",
    "session = _session()\n",
    "\n",
    "documents = session.query(UDP).all()\n",
    "SEED = 37"
   ]
  },
  {
   "cell_type": "code",
   "execution_count": 5,
   "metadata": {
    "collapsed": false,
    "deletable": true,
    "editable": true
   },
   "outputs": [],
   "source": [
    "docs_df = pd.DataFrame({'fundamento': [doc.fundamento for doc in documents],\n",
    "                        'label': [remove_accents(doc.modo.strip().lower()) for doc in documents]})"
   ]
  },
  {
   "cell_type": "markdown",
   "metadata": {
    "deletable": true,
    "editable": true
   },
   "source": [
    "# Análisis Exploratorio 1"
   ]
  },
  {
   "cell_type": "code",
   "execution_count": 6,
   "metadata": {
    "collapsed": false,
    "deletable": true,
    "editable": true
   },
   "outputs": [
    {
     "data": {
      "text/plain": [
       "(51867, 2)"
      ]
     },
     "execution_count": 6,
     "metadata": {},
     "output_type": "execute_result"
    }
   ],
   "source": [
    "docs_df.shape"
   ]
  },
  {
   "cell_type": "code",
   "execution_count": 7,
   "metadata": {
    "collapsed": false,
    "deletable": true,
    "editable": true
   },
   "outputs": [
    {
     "data": {
      "text/html": [
       "<div>\n",
       "<table border=\"1\" class=\"dataframe\">\n",
       "  <thead>\n",
       "    <tr style=\"text-align: right;\">\n",
       "      <th></th>\n",
       "      <th>fundamento</th>\n",
       "      <th>label</th>\n",
       "    </tr>\n",
       "  </thead>\n",
       "  <tbody>\n",
       "    <tr>\n",
       "      <th>33617</th>\n",
       "      <td>Son la esperanza del mundo, las futuras capacidades  que con una buen cuidado y desarrollo, son una herramienta crucial  para el desarrollo de la Sociedad. En Chile actualmente hay muchos niños abandonados  y maltratados por su familia y la sociedad chilena no es capaz de darle su debida protección</td>\n",
       "      <td>factico.definicion</td>\n",
       "    </tr>\n",
       "    <tr>\n",
       "      <th>29428</th>\n",
       "      <td>PARTICIPACION REAL E IGUALITARIA, UN ESTADO SIN SISTEMA BINOMINAL.</td>\n",
       "      <td>propositivo</td>\n",
       "    </tr>\n",
       "    <tr>\n",
       "      <th>42892</th>\n",
       "      <td>Esencial para la dignidad del ser humano</td>\n",
       "      <td>valorativo.pragmatico</td>\n",
       "    </tr>\n",
       "    <tr>\n",
       "      <th>13921</th>\n",
       "      <td>democratización de la justicia, igualdad de ley en educación, igualdad en el derecho a la tierra, igualdad sin importar origen, derechos sociales y ambientales</td>\n",
       "      <td>propositivo</td>\n",
       "    </tr>\n",
       "    <tr>\n",
       "      <th>46012</th>\n",
       "      <td>Para poder elegir que tipo de educación queremos para nuestros hijos, que no solo sea la estructura que nos entrega el estado.</td>\n",
       "      <td>valorativo.pragmatico</td>\n",
       "    </tr>\n",
       "  </tbody>\n",
       "</table>\n",
       "</div>"
      ],
      "text/plain": [
       "                                                                                                                                                                                                                                                                                                        fundamento  \\\n",
       "33617  Son la esperanza del mundo, las futuras capacidades  que con una buen cuidado y desarrollo, son una herramienta crucial  para el desarrollo de la Sociedad. En Chile actualmente hay muchos niños abandonados  y maltratados por su familia y la sociedad chilena no es capaz de darle su debida protección   \n",
       "29428  PARTICIPACION REAL E IGUALITARIA, UN ESTADO SIN SISTEMA BINOMINAL.                                                                                                                                                                                                                                            \n",
       "42892  Esencial para la dignidad del ser humano                                                                                                                                                                                                                                                                      \n",
       "13921  democratización de la justicia, igualdad de ley en educación, igualdad en el derecho a la tierra, igualdad sin importar origen, derechos sociales y ambientales                                                                                                                                               \n",
       "46012  Para poder elegir que tipo de educación queremos para nuestros hijos, que no solo sea la estructura que nos entrega el estado.                                                                                                                                                                                \n",
       "\n",
       "                       label  \n",
       "33617  factico.definicion     \n",
       "29428  propositivo            \n",
       "42892  valorativo.pragmatico  \n",
       "13921  propositivo            \n",
       "46012  valorativo.pragmatico  "
      ]
     },
     "execution_count": 7,
     "metadata": {},
     "output_type": "execute_result"
    }
   ],
   "source": [
    "pd.options.display.max_colwidth = 0\n",
    "k = 5\n",
    "docs_df.sample(k)"
   ]
  },
  {
   "cell_type": "code",
   "execution_count": 8,
   "metadata": {
    "collapsed": false,
    "deletable": true,
    "editable": true
   },
   "outputs": [
    {
     "data": {
      "text/plain": [
       "propositivo              34501\n",
       "factico.definicion       8999 \n",
       "indeterminado            3974 \n",
       "valorativo.pragmatico    2066 \n",
       "blanco                   1578 \n",
       "factico.causalidad       388  \n",
       "factico.prediccion       228  \n",
       "valorativo.negativo      55   \n",
       "valorativo.positivo      45   \n",
       "factico.pasado           31   \n",
       "factico.negativo         1    \n",
       "valorativa.pragmatica    1    \n",
       "Name: label, dtype: int64"
      ]
     },
     "execution_count": 8,
     "metadata": {},
     "output_type": "execute_result"
    }
   ],
   "source": [
    "docs_df['label'].value_counts()"
   ]
  },
  {
   "cell_type": "markdown",
   "metadata": {
    "deletable": true,
    "editable": true
   },
   "source": [
    "Corregir `valorativa.pragmatica` a `valorativo.pragmativo`"
   ]
  },
  {
   "cell_type": "code",
   "execution_count": 9,
   "metadata": {
    "collapsed": false,
    "deletable": true,
    "editable": true
   },
   "outputs": [
    {
     "data": {
      "text/html": [
       "<div>\n",
       "<table border=\"1\" class=\"dataframe\">\n",
       "  <thead>\n",
       "    <tr style=\"text-align: right;\">\n",
       "      <th></th>\n",
       "      <th>fundamento</th>\n",
       "      <th>label</th>\n",
       "    </tr>\n",
       "  </thead>\n",
       "  <tbody>\n",
       "    <tr>\n",
       "      <th>33636</th>\n",
       "      <td>etapa fundamental del ciclo vital la cual es decisiva para las dinámicas sociales,  políticas, culturales. Permite asegurar la mejor calidad de vida.</td>\n",
       "      <td>valorativa.pragmatica</td>\n",
       "    </tr>\n",
       "  </tbody>\n",
       "</table>\n",
       "</div>"
      ],
      "text/plain": [
       "                                                                                                                                                  fundamento  \\\n",
       "33636  etapa fundamental del ciclo vital la cual es decisiva para las dinámicas sociales,  políticas, culturales. Permite asegurar la mejor calidad de vida.   \n",
       "\n",
       "                       label  \n",
       "33636  valorativa.pragmatica  "
      ]
     },
     "execution_count": 9,
     "metadata": {},
     "output_type": "execute_result"
    }
   ],
   "source": [
    "docs_df[docs_df['label'] == 'valorativa.pragmatica']"
   ]
  },
  {
   "cell_type": "code",
   "execution_count": 10,
   "metadata": {
    "collapsed": false,
    "deletable": true,
    "editable": true
   },
   "outputs": [
    {
     "name": "stdout",
     "output_type": "stream",
     "text": [
      "Empty DataFrame\n",
      "Columns: [fundamento, label]\n",
      "Index: []\n",
      "👍\n"
     ]
    }
   ],
   "source": [
    "docs_df = docs_df.set_value(33636, 'label', 'valorativo.pragmatico')\n",
    "print(docs_df[docs_df['label'] == 'valorativa.pragmatica'])\n",
    "print('👍')"
   ]
  },
  {
   "cell_type": "code",
   "execution_count": 11,
   "metadata": {
    "collapsed": false,
    "deletable": true,
    "editable": true
   },
   "outputs": [
    {
     "data": {
      "text/plain": [
       "propositivo              34501\n",
       "factico.definicion       8999 \n",
       "indeterminado            3974 \n",
       "valorativo.pragmatico    2067 \n",
       "blanco                   1578 \n",
       "factico.causalidad       388  \n",
       "factico.prediccion       228  \n",
       "valorativo.negativo      55   \n",
       "valorativo.positivo      45   \n",
       "factico.pasado           31   \n",
       "factico.negativo         1    \n",
       "Name: label, dtype: int64"
      ]
     },
     "execution_count": 11,
     "metadata": {},
     "output_type": "execute_result"
    }
   ],
   "source": [
    "docs_df['label'].value_counts()"
   ]
  },
  {
   "cell_type": "markdown",
   "metadata": {
    "deletable": true,
    "editable": true
   },
   "source": [
    "Agrupar labels por primer campo (propositivo, factico, indeterminado, valorativo, blanco)"
   ]
  },
  {
   "cell_type": "code",
   "execution_count": 12,
   "metadata": {
    "collapsed": false,
    "deletable": true,
    "editable": true
   },
   "outputs": [
    {
     "data": {
      "text/plain": [
       "propositivo      34501\n",
       "factico          9647 \n",
       "indeterminado    3974 \n",
       "valorativo       2167 \n",
       "blanco           1578 \n",
       "Name: group, dtype: int64"
      ]
     },
     "execution_count": 12,
     "metadata": {},
     "output_type": "execute_result"
    }
   ],
   "source": [
    "docs_df['group'] = docs_df['label'].apply(lambda x: x.split('.')[0])\n",
    "docs_df['group'].value_counts()"
   ]
  },
  {
   "cell_type": "code",
   "execution_count": 13,
   "metadata": {
    "collapsed": false,
    "deletable": true,
    "editable": true
   },
   "outputs": [
    {
     "data": {
      "text/html": [
       "<div>\n",
       "<table border=\"1\" class=\"dataframe\">\n",
       "  <thead>\n",
       "    <tr style=\"text-align: right;\">\n",
       "      <th></th>\n",
       "      <th>fundamento</th>\n",
       "      <th>label</th>\n",
       "      <th>group</th>\n",
       "    </tr>\n",
       "  </thead>\n",
       "  <tbody>\n",
       "    <tr>\n",
       "      <th>43922</th>\n",
       "      <td>5 votos.</td>\n",
       "      <td>blanco</td>\n",
       "      <td>blanco</td>\n",
       "    </tr>\n",
       "    <tr>\n",
       "      <th>22950</th>\n",
       "      <td>No podemos disponer de los recursos de la naturaleza como si nos pertenecieran.  Existe una desconexión del ser humano con la naturaleza y es derecho de toda persona vivir en un ambiente limpio y no vulnerado.</td>\n",
       "      <td>indeterminado</td>\n",
       "      <td>indeterminado</td>\n",
       "    </tr>\n",
       "    <tr>\n",
       "      <th>41638</th>\n",
       "      <td>Enfoque de equidad, sensibilidad de género y diversidad. Equidad socioeconómica: que todas las personas tengan el mismo acceso a este derecho y otros. Que se fortalezca el sistema público de salud y se unifique en un sistema nacional y estatal que garantice la vida digna.</td>\n",
       "      <td>propositivo</td>\n",
       "      <td>propositivo</td>\n",
       "    </tr>\n",
       "    <tr>\n",
       "      <th>27184</th>\n",
       "      <td>Salario y condiciones laborales dignas. Todos tienen derecho a trabajar en buenas condiciones y recibir un buen salario para poder llevar una vida digna con el fin de vivir y no sobrevivir.</td>\n",
       "      <td>propositivo</td>\n",
       "      <td>propositivo</td>\n",
       "    </tr>\n",
       "    <tr>\n",
       "      <th>14256</th>\n",
       "      <td>A la vida, integridad física y psíquica. Derecho a la vida desde la concepción hasta la muerte natural.</td>\n",
       "      <td>propositivo</td>\n",
       "      <td>propositivo</td>\n",
       "    </tr>\n",
       "  </tbody>\n",
       "</table>\n",
       "</div>"
      ],
      "text/plain": [
       "                                                                                                                                                                                                                                                                             fundamento  \\\n",
       "43922  5 votos.                                                                                                                                                                                                                                                                           \n",
       "22950  No podemos disponer de los recursos de la naturaleza como si nos pertenecieran.  Existe una desconexión del ser humano con la naturaleza y es derecho de toda persona vivir en un ambiente limpio y no vulnerado.                                                                  \n",
       "41638  Enfoque de equidad, sensibilidad de género y diversidad. Equidad socioeconómica: que todas las personas tengan el mismo acceso a este derecho y otros. Que se fortalezca el sistema público de salud y se unifique en un sistema nacional y estatal que garantice la vida digna.   \n",
       "27184  Salario y condiciones laborales dignas. Todos tienen derecho a trabajar en buenas condiciones y recibir un buen salario para poder llevar una vida digna con el fin de vivir y no sobrevivir.                                                                                      \n",
       "14256  A la vida, integridad física y psíquica. Derecho a la vida desde la concepción hasta la muerte natural.                                                                                                                                                                            \n",
       "\n",
       "               label          group  \n",
       "43922  blanco         blanco         \n",
       "22950  indeterminado  indeterminado  \n",
       "41638  propositivo    propositivo    \n",
       "27184  propositivo    propositivo    \n",
       "14256  propositivo    propositivo    "
      ]
     },
     "execution_count": 13,
     "metadata": {},
     "output_type": "execute_result"
    }
   ],
   "source": [
    "k = 5\n",
    "rows = np.random.choice(docs_df.index.values, 5)\n",
    "docs_df.ix[rows]"
   ]
  },
  {
   "cell_type": "markdown",
   "metadata": {
    "deletable": true,
    "editable": true
   },
   "source": [
    "## Procesar fundamentos"
   ]
  },
  {
   "cell_type": "code",
   "execution_count": 14,
   "metadata": {
    "collapsed": false,
    "deletable": true,
    "editable": true
   },
   "outputs": [
    {
     "name": "stderr",
     "output_type": "stream",
     "text": [
      "100%|██████████| 51867/51867 [05:03<00:00, 171.18it/s]"
     ]
    },
    {
     "name": "stdout",
     "output_type": "stream",
     "text": [
      "CPU times: user 4min 38s, sys: 21.6 s, total: 5min\n",
      "Wall time: 5min 3s\n"
     ]
    },
    {
     "name": "stderr",
     "output_type": "stream",
     "text": [
      "\n"
     ]
    }
   ],
   "source": [
    "# esto demora 5 minutos aprox\n",
    "%time X, processed_texts, y, le = preprocess_fundamentos(docs_df, group=True)"
   ]
  },
  {
   "cell_type": "code",
   "execution_count": 15,
   "metadata": {
    "collapsed": false,
    "deletable": true,
    "editable": true
   },
   "outputs": [
    {
     "data": {
      "text/plain": [
       "((51867, 13222), (51867,))"
      ]
     },
     "execution_count": 15,
     "metadata": {},
     "output_type": "execute_result"
    }
   ],
   "source": [
    "X.shape, y.shape"
   ]
  },
  {
   "cell_type": "code",
   "execution_count": 16,
   "metadata": {
    "collapsed": false,
    "deletable": true,
    "editable": true
   },
   "outputs": [],
   "source": [
    "docs_df['texto_procesado'] = processed_texts\n",
    "docs_df['y'] = y"
   ]
  },
  {
   "cell_type": "code",
   "execution_count": 1,
   "metadata": {
    "collapsed": false,
    "deletable": true,
    "editable": true
   },
   "outputs": [
    {
     "ename": "NameError",
     "evalue": "name 'docs_df' is not defined",
     "output_type": "error",
     "traceback": [
      "\u001b[0;31m---------------------------------------------------------------------------\u001b[0m",
      "\u001b[0;31mNameError\u001b[0m                                 Traceback (most recent call last)",
      "\u001b[0;32m<ipython-input-1-d1a88ab0e457>\u001b[0m in \u001b[0;36m<module>\u001b[0;34m()\u001b[0m\n\u001b[0;32m----> 1\u001b[0;31m \u001b[0mdocs_df\u001b[0m\u001b[0;34m.\u001b[0m\u001b[0mgroupby\u001b[0m\u001b[0;34m(\u001b[0m\u001b[0;34m'group'\u001b[0m\u001b[0;34m)\u001b[0m\u001b[0;34m.\u001b[0m\u001b[0mapply\u001b[0m\u001b[0;34m(\u001b[0m\u001b[0;32mlambda\u001b[0m \u001b[0mx\u001b[0m\u001b[0;34m:\u001b[0m \u001b[0mx\u001b[0m\u001b[0;34m.\u001b[0m\u001b[0msample\u001b[0m\u001b[0;34m(\u001b[0m\u001b[0;36m5\u001b[0m\u001b[0;34m)\u001b[0m\u001b[0;34m)\u001b[0m\u001b[0;34m[\u001b[0m\u001b[0;34m[\u001b[0m\u001b[0;34m'fundamento'\u001b[0m\u001b[0;34m,\u001b[0m \u001b[0;34m'texto_procesado'\u001b[0m\u001b[0;34m]\u001b[0m\u001b[0;34m]\u001b[0m\u001b[0;34m\u001b[0m\u001b[0m\n\u001b[0m",
      "\u001b[0;31mNameError\u001b[0m: name 'docs_df' is not defined"
     ]
    }
   ],
   "source": [
    "docs_df.groupby('group').apply(lambda x: x.sample(5))[['fundamento', 'texto_procesado']]"
   ]
  },
  {
   "cell_type": "code",
   "execution_count": null,
   "metadata": {
    "collapsed": true,
    "deletable": true,
    "editable": true
   },
   "outputs": [],
   "source": []
  },
  {
   "cell_type": "markdown",
   "metadata": {
    "deletable": true,
    "editable": true
   },
   "source": [
    "## Vocabulario"
   ]
  },
  {
   "cell_type": "code",
   "execution_count": 18,
   "metadata": {
    "collapsed": false,
    "deletable": true,
    "editable": true
   },
   "outputs": [
    {
     "name": "stderr",
     "output_type": "stream",
     "text": [
      "100%|██████████| 51867/51867 [00:00<00:00, 138163.90it/s]\n"
     ]
    }
   ],
   "source": [
    "vocab = Counter()\n",
    "for tokens in tqdm(processed_texts):\n",
    "    for token in tokens:\n",
    "        vocab[token] += 1"
   ]
  },
  {
   "cell_type": "code",
   "execution_count": 19,
   "metadata": {
    "collapsed": false,
    "deletable": true,
    "editable": true
   },
   "outputs": [
    {
     "data": {
      "text/html": [
       "<div>\n",
       "<table border=\"1\" class=\"dataframe\">\n",
       "  <thead>\n",
       "    <tr style=\"text-align: right;\">\n",
       "      <th></th>\n",
       "      <th>freq</th>\n",
       "      <th>word</th>\n",
       "    </tr>\n",
       "  </thead>\n",
       "  <tbody>\n",
       "    <tr>\n",
       "      <th>0</th>\n",
       "      <td>25495</td>\n",
       "      <td>derech</td>\n",
       "    </tr>\n",
       "    <tr>\n",
       "      <th>1</th>\n",
       "      <td>19617</td>\n",
       "      <td>deb</td>\n",
       "    </tr>\n",
       "    <tr>\n",
       "      <th>2</th>\n",
       "      <td>9281</td>\n",
       "      <td>ser</td>\n",
       "    </tr>\n",
       "    <tr>\n",
       "      <th>3</th>\n",
       "      <td>7857</td>\n",
       "      <td>person</td>\n",
       "    </tr>\n",
       "    <tr>\n",
       "      <th>4</th>\n",
       "      <td>7695</td>\n",
       "      <td>salud</td>\n",
       "    </tr>\n",
       "    <tr>\n",
       "      <th>5</th>\n",
       "      <td>7320</td>\n",
       "      <td>calid</td>\n",
       "    </tr>\n",
       "    <tr>\n",
       "      <th>6</th>\n",
       "      <td>6718</td>\n",
       "      <td>garantiz</td>\n",
       "    </tr>\n",
       "    <tr>\n",
       "      <th>7</th>\n",
       "      <td>6709</td>\n",
       "      <td>educ</td>\n",
       "    </tr>\n",
       "    <tr>\n",
       "      <th>8</th>\n",
       "      <td>5959</td>\n",
       "      <td>vid</td>\n",
       "    </tr>\n",
       "    <tr>\n",
       "      <th>9</th>\n",
       "      <td>5876</td>\n",
       "      <td>tod</td>\n",
       "    </tr>\n",
       "  </tbody>\n",
       "</table>\n",
       "</div>"
      ],
      "text/plain": [
       "    freq      word\n",
       "0  25495  derech  \n",
       "1  19617  deb     \n",
       "2  9281   ser     \n",
       "3  7857   person  \n",
       "4  7695   salud   \n",
       "5  7320   calid   \n",
       "6  6718   garantiz\n",
       "7  6709   educ    \n",
       "8  5959   vid     \n",
       "9  5876   tod     "
      ]
     },
     "execution_count": 19,
     "metadata": {},
     "output_type": "execute_result"
    }
   ],
   "source": [
    "k = 10\n",
    "tmp = pd.DataFrame({'word': list(map(itemgetter(0), vocab.most_common(k))),\n",
    "                    'freq': list(map(itemgetter(1), vocab.most_common(k)))})\n",
    "tmp"
   ]
  },
  {
   "cell_type": "markdown",
   "metadata": {
    "deletable": true,
    "editable": true
   },
   "source": [
    "# Clasificación"
   ]
  },
  {
   "cell_type": "code",
   "execution_count": 20,
   "metadata": {
    "collapsed": false,
    "deletable": true,
    "editable": true,
    "scrolled": true
   },
   "outputs": [
    {
     "name": "stdout",
     "output_type": "stream",
     "text": [
      "3 34501 0.66518 ['propositivo']\n",
      "1 9647 0.18599 ['factico']\n",
      "2 3974 0.07662 ['indeterminado']\n",
      "4 2167 0.04178 ['valorativo']\n",
      "0 1578 0.03042 ['blanco']\n"
     ]
    }
   ],
   "source": [
    "total = sum(Counter(y).values())\n",
    "\n",
    "for label, count in Counter(y).most_common():\n",
    "    print(label, count, '%.5f' % (count / total), le.inverse_transform([label]))"
   ]
  },
  {
   "cell_type": "code",
   "execution_count": 21,
   "metadata": {
    "collapsed": false,
    "deletable": true,
    "editable": true
   },
   "outputs": [],
   "source": [
    "X_train, X_test, y_train, y_test = model_selection.train_test_split(X, y, \n",
    "                                                                    test_size=.33, \n",
    "                                                                    random_state=SEED, \n",
    "                                                                    stratify=y)"
   ]
  },
  {
   "cell_type": "code",
   "execution_count": 22,
   "metadata": {
    "collapsed": false,
    "deletable": true,
    "editable": true
   },
   "outputs": [
    {
     "data": {
      "text/plain": [
       "['blanco', 'factico', 'indeterminado', 'propositivo', 'valorativo']"
      ]
     },
     "execution_count": 22,
     "metadata": {},
     "output_type": "execute_result"
    }
   ],
   "source": [
    "target_names = le.inverse_transform(range(max(y) + 1)).tolist()\n",
    "target_names"
   ]
  },
  {
   "cell_type": "code",
   "execution_count": 23,
   "metadata": {
    "collapsed": false,
    "deletable": true,
    "editable": true
   },
   "outputs": [
    {
     "name": "stdout",
     "output_type": "stream",
     "text": [
      "y distribution\n",
      "3    0.665182\n",
      "1    0.185995\n",
      "2    0.076619\n",
      "4    0.041780\n",
      "0    0.030424\n",
      "dtype: float64\n",
      "\n",
      "y_train distribution\n",
      "3    0.665180\n",
      "1    0.185986\n",
      "2    0.076633\n",
      "4    0.041784\n",
      "0    0.030417\n",
      "dtype: float64\n",
      "\n",
      "y_test distribution\n",
      "3    0.665187\n",
      "1    0.186014\n",
      "2    0.076591\n",
      "4    0.041771\n",
      "0    0.030438\n",
      "dtype: float64\n"
     ]
    }
   ],
   "source": [
    "print(\"y distribution\")\n",
    "print(pd.Series(y).value_counts(normalize=True))\n",
    "print()\n",
    "print(\"y_train distribution\")\n",
    "print(pd.Series(y_train).value_counts(normalize=True))\n",
    "print()\n",
    "print(\"y_test distribution\")\n",
    "print(pd.Series(y_test).value_counts(normalize=True))"
   ]
  },
  {
   "cell_type": "code",
   "execution_count": 32,
   "metadata": {
    "collapsed": false,
    "deletable": true,
    "editable": true
   },
   "outputs": [],
   "source": [
    "X_train_dense = X_train.todense()\n",
    "X_test_dense = X_test.todense()\n",
    "X_dense = X.todense()"
   ]
  },
  {
   "cell_type": "code",
   "execution_count": 33,
   "metadata": {
    "collapsed": false,
    "deletable": true,
    "editable": true
   },
   "outputs": [],
   "source": [
    "#### los archivos resultantes son muy grandes para weka\n",
    "with open('train.csv', 'w') as f:\n",
    "    for row, label in zip(X_train_dense, y_train):\n",
    "        f.write(','.join(map(str, row.tolist()[0])) + ',' + le.inverse_transform(label) + '\\n')\n",
    "\n",
    "with open('test.csv', 'w') as f:\n",
    "    for row, label in zip(X_test_dense, y_test):\n",
    "        f.write(','.join(map(str, row.tolist()[0])) + ',' + le.inverse_transform(label) + '\\n')\n",
    "\n",
    "with open('full.csv', 'w') as f:\n",
    "    for row, label in zip(X_dense, y):\n",
    "        f.write(','.join(map(str, row.tolist()[0])) + ',' + le.inverse_transform(label) + '\\n')"
   ]
  },
  {
   "cell_type": "code",
   "execution_count": null,
   "metadata": {
    "collapsed": false,
    "deletable": true,
    "editable": true
   },
   "outputs": [
    {
     "name": "stdout",
     "output_type": "stream",
     "text": [
      "Base\n",
      "               precision    recall  f1-score   support\n",
      "\n",
      "       blanco       0.03      0.03      0.03       521\n",
      "      factico       0.18      0.18      0.18      3184\n",
      "indeterminado       0.07      0.08      0.08      1311\n",
      "  propositivo       0.66      0.67      0.67     11386\n",
      "   valorativo       0.03      0.03      0.03       715\n",
      "\n",
      "  avg / total       0.48      0.49      0.49     17117\n",
      "\n",
      "SVM\n"
     ]
    },
    {
     "name": "stderr",
     "output_type": "stream",
     "text": [
      "/Users/mquezada/anaconda3/envs/ams/lib/python3.6/site-packages/sklearn/metrics/classification.py:1113: UndefinedMetricWarning: Precision and F-score are ill-defined and being set to 0.0 in labels with no predicted samples.\n",
      "  'precision', 'predicted', average, warn_for)\n"
     ]
    },
    {
     "name": "stdout",
     "output_type": "stream",
     "text": [
      "               precision    recall  f1-score   support\n",
      "\n",
      "       blanco       0.00      0.00      0.00       521\n",
      "      factico       0.00      0.00      0.00      3184\n",
      "indeterminado       0.00      0.00      0.00      1311\n",
      "  propositivo       0.67      1.00      0.80     11386\n",
      "   valorativo       0.00      0.00      0.00       715\n",
      "\n",
      "  avg / total       0.44      0.67      0.53     17117\n",
      "\n",
      "SVM\n",
      "               precision    recall  f1-score   support\n",
      "\n",
      "       blanco       0.57      0.41      0.48       521\n",
      "      factico       0.55      0.25      0.35      3184\n",
      "indeterminado       0.42      0.03      0.05      1311\n",
      "  propositivo       0.73      0.97      0.83     11386\n",
      "   valorativo       0.57      0.02      0.04       715\n",
      "\n",
      "  avg / total       0.66      0.71      0.64     17117\n",
      "\n",
      "DT\n",
      "               precision    recall  f1-score   support\n",
      "\n",
      "       blanco       0.48      0.72      0.58       521\n",
      "      factico       0.38      0.35      0.36      3184\n",
      "indeterminado       0.15      0.09      0.11      1311\n",
      "  propositivo       0.77      0.81      0.79     11386\n",
      "   valorativo       0.20      0.17      0.18       715\n",
      "\n",
      "  avg / total       0.62      0.64      0.63     17117\n",
      "\n",
      "NB\n",
      "               precision    recall  f1-score   support\n",
      "\n",
      "       blanco       0.11      0.84      0.19       521\n",
      "      factico       0.17      0.11      0.14      3184\n",
      "indeterminado       0.09      0.19      0.12      1311\n",
      "  propositivo       0.73      0.12      0.21     11386\n",
      "   valorativo       0.06      0.52      0.11       715\n",
      "\n",
      "  avg / total       0.53      0.16      0.18     17117\n",
      "\n",
      "KNN\n"
     ]
    }
   ],
   "source": [
    "c0 = (\"Base\", DummyClassifier(strategy='stratified'))\n",
    "c1 = (\"SVM\", SVC(kernel='rbf'))\n",
    "c2 = (\"SVM\", SVC(kernel='linear'))\n",
    "c3 = (\"DT\", DecisionTreeClassifier())\n",
    "c4 = (\"NB\", GaussianNB())\n",
    "c5 = (\"KNN\", KNeighborsClassifier(n_neighbors=5))\n",
    "\n",
    "clfs = [c0, c1, c2, c3, c4, c5]\n",
    "\n",
    "for name, clf in clfs:\n",
    "    print(name)\n",
    "    clf.fit(X_train_d, y_train)\n",
    "    y_pred = clf.predict(X_test_d)\n",
    "    print(classification_report(y_test, y_pred, target_names=target_names))"
   ]
  },
  {
   "cell_type": "code",
   "execution_count": null,
   "metadata": {
    "collapsed": true,
    "deletable": true,
    "editable": true
   },
   "outputs": [],
   "source": []
  }
 ],
 "metadata": {
  "kernelspec": {
   "display_name": "Python 3",
   "language": "python",
   "name": "python3"
  },
  "language_info": {
   "codemirror_mode": {
    "name": "ipython",
    "version": 3
   },
   "file_extension": ".py",
   "mimetype": "text/x-python",
   "name": "python",
   "nbconvert_exporter": "python",
   "pygments_lexer": "ipython3",
   "version": "3.6.0"
  }
 },
 "nbformat": 4,
 "nbformat_minor": 2
}
