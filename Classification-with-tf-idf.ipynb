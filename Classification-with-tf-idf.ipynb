{
 "cells": [
  {
   "cell_type": "code",
   "execution_count": 1,
   "metadata": {
    "collapsed": false
   },
   "outputs": [],
   "source": [
    "%load_ext watermark"
   ]
  },
  {
   "cell_type": "code",
   "execution_count": 2,
   "metadata": {
    "collapsed": false
   },
   "outputs": [
    {
     "name": "stdout",
     "output_type": "stream",
     "text": [
      "2017-05-15T22:36:49-04:00\n",
      "\n",
      "CPython 3.6.0\n",
      "IPython 5.3.0\n",
      "\n",
      "compiler   : GCC 4.2.1 Compatible Apple LLVM 6.0 (clang-600.0.57)\n",
      "system     : Darwin\n",
      "release    : 16.5.0\n",
      "machine    : x86_64\n",
      "processor  : i386\n",
      "CPU cores  : 4\n",
      "interpreter: 64bit\n"
     ]
    }
   ],
   "source": [
    "%watermark"
   ]
  },
  {
   "cell_type": "code",
   "execution_count": 3,
   "metadata": {
    "collapsed": true
   },
   "outputs": [],
   "source": [
    "from tf_idf import preprocess_fundamentos, remove_accents\n",
    "from sklearn import model_selection\n",
    "from tqdm import tqdm, trange\n",
    "from sklearn.metrics import classification_report\n",
    "from sklearn.neighbors import KNeighborsClassifier\n",
    "from collections import Counter, defaultdict\n",
    "from operator import itemgetter\n",
    "\n",
    "from sqlalchemy import create_engine\n",
    "from sqlalchemy.orm import sessionmaker\n",
    "from models import UDP\n",
    "import logging\n",
    "import random\n",
    "import pandas as pd\n",
    "import numpy as np\n",
    "\n",
    "from sklearn.dummy import DummyClassifier\n",
    "from sklearn.svm import SVC  # support vector machine classifier\n",
    "from sklearn.tree import DecisionTreeClassifier\n",
    "from sklearn.naive_bayes import GaussianNB  # naive bayes\n",
    "from sklearn.neighbors import KNeighborsClassifier"
   ]
  },
  {
   "cell_type": "markdown",
   "metadata": {},
   "source": [
    "# Setup"
   ]
  },
  {
   "cell_type": "code",
   "execution_count": 4,
   "metadata": {
    "collapsed": false,
    "scrolled": true
   },
   "outputs": [],
   "source": [
    "logger = logging.getLogger(__name__)\n",
    "\n",
    "engine = create_engine('mysql://root@localhost/constabierta')\n",
    "_session = sessionmaker(bind=engine, autocommit=True, expire_on_commit=True)\n",
    "session = _session()\n",
    "\n",
    "documents = session.query(UDP).all()\n",
    "SEED = 37"
   ]
  },
  {
   "cell_type": "code",
   "execution_count": 5,
   "metadata": {
    "collapsed": false
   },
   "outputs": [],
   "source": [
    "docs_df = pd.DataFrame({'fundamento': [doc.fundamento for doc in documents],\n",
    "                        'label': [remove_accents(doc.modo.strip().lower()) for doc in documents]})"
   ]
  },
  {
   "cell_type": "markdown",
   "metadata": {},
   "source": [
    "# Análisis Exploratorio 1"
   ]
  },
  {
   "cell_type": "code",
   "execution_count": 6,
   "metadata": {
    "collapsed": false
   },
   "outputs": [
    {
     "data": {
      "text/plain": [
       "(51867, 2)"
      ]
     },
     "execution_count": 6,
     "metadata": {},
     "output_type": "execute_result"
    }
   ],
   "source": [
    "docs_df.shape"
   ]
  },
  {
   "cell_type": "code",
   "execution_count": 7,
   "metadata": {
    "collapsed": false
   },
   "outputs": [
    {
     "data": {
      "text/html": [
       "<div>\n",
       "<table border=\"1\" class=\"dataframe\">\n",
       "  <thead>\n",
       "    <tr style=\"text-align: right;\">\n",
       "      <th></th>\n",
       "      <th>fundamento</th>\n",
       "      <th>label</th>\n",
       "    </tr>\n",
       "  </thead>\n",
       "  <tbody>\n",
       "    <tr>\n",
       "      <th>33617</th>\n",
       "      <td>Son la esperanza del mundo, las futuras capacidades  que con una buen cuidado y desarrollo, son una herramienta crucial  para el desarrollo de la Sociedad. En Chile actualmente hay muchos niños abandonados  y maltratados por su familia y la sociedad chilena no es capaz de darle su debida protección</td>\n",
       "      <td>factico.definicion</td>\n",
       "    </tr>\n",
       "    <tr>\n",
       "      <th>29428</th>\n",
       "      <td>PARTICIPACION REAL E IGUALITARIA, UN ESTADO SIN SISTEMA BINOMINAL.</td>\n",
       "      <td>propositivo</td>\n",
       "    </tr>\n",
       "    <tr>\n",
       "      <th>42892</th>\n",
       "      <td>Esencial para la dignidad del ser humano</td>\n",
       "      <td>valorativo.pragmatico</td>\n",
       "    </tr>\n",
       "    <tr>\n",
       "      <th>13921</th>\n",
       "      <td>democratización de la justicia, igualdad de ley en educación, igualdad en el derecho a la tierra, igualdad sin importar origen, derechos sociales y ambientales</td>\n",
       "      <td>propositivo</td>\n",
       "    </tr>\n",
       "    <tr>\n",
       "      <th>46012</th>\n",
       "      <td>Para poder elegir que tipo de educación queremos para nuestros hijos, que no solo sea la estructura que nos entrega el estado.</td>\n",
       "      <td>valorativo.pragmatico</td>\n",
       "    </tr>\n",
       "  </tbody>\n",
       "</table>\n",
       "</div>"
      ],
      "text/plain": [
       "                                                                                                                                                                                                                                                                                                        fundamento  \\\n",
       "33617  Son la esperanza del mundo, las futuras capacidades  que con una buen cuidado y desarrollo, son una herramienta crucial  para el desarrollo de la Sociedad. En Chile actualmente hay muchos niños abandonados  y maltratados por su familia y la sociedad chilena no es capaz de darle su debida protección   \n",
       "29428  PARTICIPACION REAL E IGUALITARIA, UN ESTADO SIN SISTEMA BINOMINAL.                                                                                                                                                                                                                                            \n",
       "42892  Esencial para la dignidad del ser humano                                                                                                                                                                                                                                                                      \n",
       "13921  democratización de la justicia, igualdad de ley en educación, igualdad en el derecho a la tierra, igualdad sin importar origen, derechos sociales y ambientales                                                                                                                                               \n",
       "46012  Para poder elegir que tipo de educación queremos para nuestros hijos, que no solo sea la estructura que nos entrega el estado.                                                                                                                                                                                \n",
       "\n",
       "                       label  \n",
       "33617  factico.definicion     \n",
       "29428  propositivo            \n",
       "42892  valorativo.pragmatico  \n",
       "13921  propositivo            \n",
       "46012  valorativo.pragmatico  "
      ]
     },
     "execution_count": 7,
     "metadata": {},
     "output_type": "execute_result"
    }
   ],
   "source": [
    "pd.options.display.max_colwidth = 0\n",
    "k = 5\n",
    "docs_df.sample(k)"
   ]
  },
  {
   "cell_type": "code",
   "execution_count": 8,
   "metadata": {
    "collapsed": false
   },
   "outputs": [
    {
     "data": {
      "text/plain": [
       "propositivo              34501\n",
       "factico.definicion       8999 \n",
       "indeterminado            3974 \n",
       "valorativo.pragmatico    2066 \n",
       "blanco                   1578 \n",
       "factico.causalidad       388  \n",
       "factico.prediccion       228  \n",
       "valorativo.negativo      55   \n",
       "valorativo.positivo      45   \n",
       "factico.pasado           31   \n",
       "factico.negativo         1    \n",
       "valorativa.pragmatica    1    \n",
       "Name: label, dtype: int64"
      ]
     },
     "execution_count": 8,
     "metadata": {},
     "output_type": "execute_result"
    }
   ],
   "source": [
    "docs_df['label'].value_counts()"
   ]
  },
  {
   "cell_type": "markdown",
   "metadata": {},
   "source": [
    "Corregir `valorativa.pragmatica` a `valorativo.pragmativo`"
   ]
  },
  {
   "cell_type": "code",
   "execution_count": 9,
   "metadata": {
    "collapsed": false
   },
   "outputs": [
    {
     "data": {
      "text/html": [
       "<div>\n",
       "<table border=\"1\" class=\"dataframe\">\n",
       "  <thead>\n",
       "    <tr style=\"text-align: right;\">\n",
       "      <th></th>\n",
       "      <th>fundamento</th>\n",
       "      <th>label</th>\n",
       "    </tr>\n",
       "  </thead>\n",
       "  <tbody>\n",
       "    <tr>\n",
       "      <th>33636</th>\n",
       "      <td>etapa fundamental del ciclo vital la cual es decisiva para las dinámicas sociales,  políticas, culturales. Permite asegurar la mejor calidad de vida.</td>\n",
       "      <td>valorativa.pragmatica</td>\n",
       "    </tr>\n",
       "  </tbody>\n",
       "</table>\n",
       "</div>"
      ],
      "text/plain": [
       "                                                                                                                                                  fundamento  \\\n",
       "33636  etapa fundamental del ciclo vital la cual es decisiva para las dinámicas sociales,  políticas, culturales. Permite asegurar la mejor calidad de vida.   \n",
       "\n",
       "                       label  \n",
       "33636  valorativa.pragmatica  "
      ]
     },
     "execution_count": 9,
     "metadata": {},
     "output_type": "execute_result"
    }
   ],
   "source": [
    "docs_df[docs_df['label'] == 'valorativa.pragmatica']"
   ]
  },
  {
   "cell_type": "code",
   "execution_count": 10,
   "metadata": {
    "collapsed": false
   },
   "outputs": [
    {
     "name": "stdout",
     "output_type": "stream",
     "text": [
      "Empty DataFrame\n",
      "Columns: [fundamento, label]\n",
      "Index: []\n",
      "👍\n"
     ]
    }
   ],
   "source": [
    "docs_df = docs_df.set_value(33636, 'label', 'valorativo.pragmatico')\n",
    "print(docs_df[docs_df['label'] == 'valorativa.pragmatica'])\n",
    "print('👍')"
   ]
  },
  {
   "cell_type": "code",
   "execution_count": 11,
   "metadata": {
    "collapsed": false
   },
   "outputs": [
    {
     "data": {
      "text/plain": [
       "propositivo              34501\n",
       "factico.definicion       8999 \n",
       "indeterminado            3974 \n",
       "valorativo.pragmatico    2067 \n",
       "blanco                   1578 \n",
       "factico.causalidad       388  \n",
       "factico.prediccion       228  \n",
       "valorativo.negativo      55   \n",
       "valorativo.positivo      45   \n",
       "factico.pasado           31   \n",
       "factico.negativo         1    \n",
       "Name: label, dtype: int64"
      ]
     },
     "execution_count": 11,
     "metadata": {},
     "output_type": "execute_result"
    }
   ],
   "source": [
    "docs_df['label'].value_counts()"
   ]
  },
  {
   "cell_type": "markdown",
   "metadata": {},
   "source": [
    "Agrupar labels por primer campo (propositivo, factico, indeterminado, valorativo, blanco)"
   ]
  },
  {
   "cell_type": "code",
   "execution_count": 12,
   "metadata": {
    "collapsed": false
   },
   "outputs": [
    {
     "data": {
      "text/plain": [
       "propositivo      34501\n",
       "factico          9647 \n",
       "indeterminado    3974 \n",
       "valorativo       2167 \n",
       "blanco           1578 \n",
       "Name: group, dtype: int64"
      ]
     },
     "execution_count": 12,
     "metadata": {},
     "output_type": "execute_result"
    }
   ],
   "source": [
    "docs_df['group'] = docs_df['label'].apply(lambda x: x.split('.')[0])\n",
    "docs_df['group'].value_counts()"
   ]
  },
  {
   "cell_type": "code",
   "execution_count": 13,
   "metadata": {
    "collapsed": false
   },
   "outputs": [
    {
     "data": {
      "text/html": [
       "<div>\n",
       "<table border=\"1\" class=\"dataframe\">\n",
       "  <thead>\n",
       "    <tr style=\"text-align: right;\">\n",
       "      <th></th>\n",
       "      <th>fundamento</th>\n",
       "      <th>label</th>\n",
       "      <th>group</th>\n",
       "    </tr>\n",
       "  </thead>\n",
       "  <tbody>\n",
       "    <tr>\n",
       "      <th>43922</th>\n",
       "      <td>5 votos.</td>\n",
       "      <td>blanco</td>\n",
       "      <td>blanco</td>\n",
       "    </tr>\n",
       "    <tr>\n",
       "      <th>22950</th>\n",
       "      <td>No podemos disponer de los recursos de la naturaleza como si nos pertenecieran.  Existe una desconexión del ser humano con la naturaleza y es derecho de toda persona vivir en un ambiente limpio y no vulnerado.</td>\n",
       "      <td>indeterminado</td>\n",
       "      <td>indeterminado</td>\n",
       "    </tr>\n",
       "    <tr>\n",
       "      <th>41638</th>\n",
       "      <td>Enfoque de equidad, sensibilidad de género y diversidad. Equidad socioeconómica: que todas las personas tengan el mismo acceso a este derecho y otros. Que se fortalezca el sistema público de salud y se unifique en un sistema nacional y estatal que garantice la vida digna.</td>\n",
       "      <td>propositivo</td>\n",
       "      <td>propositivo</td>\n",
       "    </tr>\n",
       "    <tr>\n",
       "      <th>27184</th>\n",
       "      <td>Salario y condiciones laborales dignas. Todos tienen derecho a trabajar en buenas condiciones y recibir un buen salario para poder llevar una vida digna con el fin de vivir y no sobrevivir.</td>\n",
       "      <td>propositivo</td>\n",
       "      <td>propositivo</td>\n",
       "    </tr>\n",
       "    <tr>\n",
       "      <th>14256</th>\n",
       "      <td>A la vida, integridad física y psíquica. Derecho a la vida desde la concepción hasta la muerte natural.</td>\n",
       "      <td>propositivo</td>\n",
       "      <td>propositivo</td>\n",
       "    </tr>\n",
       "  </tbody>\n",
       "</table>\n",
       "</div>"
      ],
      "text/plain": [
       "                                                                                                                                                                                                                                                                             fundamento  \\\n",
       "43922  5 votos.                                                                                                                                                                                                                                                                           \n",
       "22950  No podemos disponer de los recursos de la naturaleza como si nos pertenecieran.  Existe una desconexión del ser humano con la naturaleza y es derecho de toda persona vivir en un ambiente limpio y no vulnerado.                                                                  \n",
       "41638  Enfoque de equidad, sensibilidad de género y diversidad. Equidad socioeconómica: que todas las personas tengan el mismo acceso a este derecho y otros. Que se fortalezca el sistema público de salud y se unifique en un sistema nacional y estatal que garantice la vida digna.   \n",
       "27184  Salario y condiciones laborales dignas. Todos tienen derecho a trabajar en buenas condiciones y recibir un buen salario para poder llevar una vida digna con el fin de vivir y no sobrevivir.                                                                                      \n",
       "14256  A la vida, integridad física y psíquica. Derecho a la vida desde la concepción hasta la muerte natural.                                                                                                                                                                            \n",
       "\n",
       "               label          group  \n",
       "43922  blanco         blanco         \n",
       "22950  indeterminado  indeterminado  \n",
       "41638  propositivo    propositivo    \n",
       "27184  propositivo    propositivo    \n",
       "14256  propositivo    propositivo    "
      ]
     },
     "execution_count": 13,
     "metadata": {},
     "output_type": "execute_result"
    }
   ],
   "source": [
    "k = 5\n",
    "rows = np.random.choice(docs_df.index.values, 5)\n",
    "docs_df.ix[rows]"
   ]
  },
  {
   "cell_type": "markdown",
   "metadata": {},
   "source": [
    "## Procesar fundamentos"
   ]
  },
  {
   "cell_type": "code",
   "execution_count": 14,
   "metadata": {
    "collapsed": false
   },
   "outputs": [
    {
     "name": "stderr",
     "output_type": "stream",
     "text": [
      "100%|██████████| 51867/51867 [05:03<00:00, 171.18it/s]"
     ]
    },
    {
     "name": "stdout",
     "output_type": "stream",
     "text": [
      "CPU times: user 4min 38s, sys: 21.6 s, total: 5min\n",
      "Wall time: 5min 3s\n"
     ]
    },
    {
     "name": "stderr",
     "output_type": "stream",
     "text": [
      "\n"
     ]
    }
   ],
   "source": [
    "# esto demora 5 minutos aprox\n",
    "%time X, processed_texts, y, le = preprocess_fundamentos(docs_df, group=True)"
   ]
  },
  {
   "cell_type": "code",
   "execution_count": 15,
   "metadata": {
    "collapsed": false
   },
   "outputs": [
    {
     "data": {
      "text/plain": [
       "((51867, 13222), (51867,))"
      ]
     },
     "execution_count": 15,
     "metadata": {},
     "output_type": "execute_result"
    }
   ],
   "source": [
    "X.shape, y.shape"
   ]
  },
  {
   "cell_type": "code",
   "execution_count": 16,
   "metadata": {
    "collapsed": false
   },
   "outputs": [],
   "source": [
    "docs_df['texto_procesado'] = processed_texts\n",
    "docs_df['y'] = y"
   ]
  },
  {
   "cell_type": "code",
   "execution_count": 17,
   "metadata": {
    "collapsed": false
   },
   "outputs": [
    {
     "data": {
      "text/html": [
       "<div>\n",
       "<table border=\"1\" class=\"dataframe\">\n",
       "  <thead>\n",
       "    <tr style=\"text-align: right;\">\n",
       "      <th></th>\n",
       "      <th></th>\n",
       "      <th>fundamento</th>\n",
       "      <th>texto_procesado</th>\n",
       "    </tr>\n",
       "    <tr>\n",
       "      <th>group</th>\n",
       "      <th></th>\n",
       "      <th></th>\n",
       "      <th></th>\n",
       "    </tr>\n",
       "  </thead>\n",
       "  <tbody>\n",
       "    <tr>\n",
       "      <th rowspan=\"5\" valign=\"top\">blanco</th>\n",
       "      <th>51341</th>\n",
       "      <td>es importante pero también hay otros derechos mas importantes. la mayoría estuvo de acuerdo en incluirlo</td>\n",
       "      <td>[import, derech, mas, import, mayor, acuerd, inclu]</td>\n",
       "    </tr>\n",
       "    <tr>\n",
       "      <th>15504</th>\n",
       "      <td>El derecho a la vida según los derechos humanos, pero habemos personas que estamos a favor y en contra del aborto…ahí también hay vida.</td>\n",
       "      <td>[derech, vid, segun, derech, human, hab, person, favor, aborto…ah, vid]</td>\n",
       "    </tr>\n",
       "    <tr>\n",
       "      <th>33398</th>\n",
       "      <td>.</td>\n",
       "      <td>[]</td>\n",
       "    </tr>\n",
       "    <tr>\n",
       "      <th>27068</th>\n",
       "      <td>sin fundamento</td>\n",
       "      <td>[fundament]</td>\n",
       "    </tr>\n",
       "    <tr>\n",
       "      <th>47693</th>\n",
       "      <td>sí</td>\n",
       "      <td>[]</td>\n",
       "    </tr>\n",
       "    <tr>\n",
       "      <th rowspan=\"5\" valign=\"top\">factico</th>\n",
       "      <th>12564</th>\n",
       "      <td>todos iguales ante la ley no importando el credo religioso estatus no hay nadie sobre la ley.</td>\n",
       "      <td>[igual, ley, import, cred, religi, estatus, nadi, ley]</td>\n",
       "    </tr>\n",
       "    <tr>\n",
       "      <th>34490</th>\n",
       "      <td>Los niños y adolescentes son una responsabilidad de toda la sociedad. Estos derechos incluyen su salud, educación y bienestar. Estos derechos están incluidos dentro de los derechos humanos, pero se los debe separar de éstos para no invisibilizarlos.</td>\n",
       "      <td>[niñ, adolescent, respons, tod, socied, derech, inclu, salud, educ, bienest, derech, inclu, dentr, derech, human, deb, separ, estos, invisibiliz]</td>\n",
       "    </tr>\n",
       "    <tr>\n",
       "      <th>15884</th>\n",
       "      <td>Como derecho fundamental de una verdadera convivencia humana anterior al Estado</td>\n",
       "      <td>[derech, fundamental, verdader, convivent, human, anterior]</td>\n",
       "    </tr>\n",
       "    <tr>\n",
       "      <th>49539</th>\n",
       "      <td>Ha permitido a millones de personas en todo el mundo desarrollarse a través de la creación de valor. Es el motor del desarrollo</td>\n",
       "      <td>[permit, millon, person, mund, desarroll, traves, creacion, valor, motor, desarroll]</td>\n",
       "    </tr>\n",
       "    <tr>\n",
       "      <th>18010</th>\n",
       "      <td>ES UNA ASPIRACIÓN DE CASI TODAS LAS PERSONAS, TENER UN LUGAR PROPIO QUE DE SEGURIDAD Y TRANQUILIDAD.</td>\n",
       "      <td>[aspir, casi, tod, person, ten, lug, propi, segur, tranquil]</td>\n",
       "    </tr>\n",
       "    <tr>\n",
       "      <th rowspan=\"5\" valign=\"top\">indeterminado</th>\n",
       "      <th>18903</th>\n",
       "      <td>Hoy en día las viviendas son mas chicas dependiendo el sector en donde se viva, mejorar subsidios, mejor calidad para migrantes</td>\n",
       "      <td>[hoy, dia, viviend, mas, chic, depend, sector, viv, mejor, subsidi, mejor, calid, migrant]</td>\n",
       "    </tr>\n",
       "    <tr>\n",
       "      <th>40671</th>\n",
       "      <td>Saber lo que pasa en el país, transparencia real como funciona el país. Existe hoy una plataforma  informativa, ley de transparencia. Datos crudos y reales, no procesados.  Discutir que es lo que no se puede trasparentar.</td>\n",
       "      <td>[sab, pas, pais, transparent, real, funcion, pais, exist, hoy, plataform, inform, ley, transparent, dat, crud, real, proces, discut, pued, trasparent]</td>\n",
       "    </tr>\n",
       "    <tr>\n",
       "      <th>20492</th>\n",
       "      <td>Acuerdo mayoritario de los asistentes (9 de 10). El acceso a los beneficios a las personas es inexcusable. Mejorar las pensiones con la eliminación de las AFP, asegurar más ayuda a los vulnerables y dar garantías de probidad y transparencia.</td>\n",
       "      <td>[acuerd, mayoritari, asistent, 10, acces, benefici, person, inexcus, mejor, pension, elimin, afp, asegur, ayud, vulner, dar, garant, probid, transparent]</td>\n",
       "    </tr>\n",
       "    <tr>\n",
       "      <th>19096</th>\n",
       "      <td>Necesidad de asegurar este derecho de forma no segregada, revisar planificación urbana.</td>\n",
       "      <td>[neces, asegur, derech, form, segreg, revis, planif, urban]</td>\n",
       "    </tr>\n",
       "    <tr>\n",
       "      <th>4495</th>\n",
       "      <td>Es parte del derecho a la vida, disponer de una salud acorde a los avances de la medicina.</td>\n",
       "      <td>[part, derech, vid, dispon, salud, acord, avanc, medicin]</td>\n",
       "    </tr>\n",
       "    <tr>\n",
       "      <th rowspan=\"5\" valign=\"top\">propositivo</th>\n",
       "      <th>19385</th>\n",
       "      <td>Para todos y todas como responsabilidad del estado de manera equitativa asegurando la protección de todos los chilenos y chilenas.</td>\n",
       "      <td>[tod, respons, maner, equit, asegur, proteccion, chilen, chilen]</td>\n",
       "    </tr>\n",
       "    <tr>\n",
       "      <th>34495</th>\n",
       "      <td>porque son el futuro de nuestro país y del mundo.</td>\n",
       "      <td>[futur, pais, mund]</td>\n",
       "    </tr>\n",
       "    <tr>\n",
       "      <th>38979</th>\n",
       "      <td>solo a través del voto podemos definir de manera justa cualquier ley, derecho o deber.</td>\n",
       "      <td>[sol, traves, vot, pod, defin, maner, just, cualqui, ley, derech, deb]</td>\n",
       "    </tr>\n",
       "    <tr>\n",
       "      <th>48405</th>\n",
       "      <td>Que las comunidades tengamos derecho a la ciberinformación (más rápida) pública</td>\n",
       "      <td>[comun, derech, ciberinform, mas, rap, public]</td>\n",
       "    </tr>\n",
       "    <tr>\n",
       "      <th>47025</th>\n",
       "      <td>Por acuerdo de todas y todos quienes participaron, acordamos agrupar el derecho a la salud (y los asociados a este), derecho al trabajo (derechos asociados a este), derecho a la educación ( y derechos asociados a este) y derecho a la vivienda (y derechos asociados a este) como derechos sociales.</td>\n",
       "      <td>[acuerd, tod, particip, acord, agrup, derech, salud, asoci, este, derech, trabaj, derech, asoci, este, derech, educ, derech, asoci, este, derech, viviend, derech, asoci, este, derech, social]</td>\n",
       "    </tr>\n",
       "    <tr>\n",
       "      <th rowspan=\"5\" valign=\"top\">valorativo</th>\n",
       "      <th>47395</th>\n",
       "      <td>Para alcanzar los principios de felicidad e integralidad social</td>\n",
       "      <td>[alcanz, principi, felic, integral, social]</td>\n",
       "    </tr>\n",
       "    <tr>\n",
       "      <th>30668</th>\n",
       "      <td>El Hecho de vivir en una sociedad implica el poder participar en las decisiones macro</td>\n",
       "      <td>[hech, viv, socied, implic, pod, particip, decision, macr]</td>\n",
       "    </tr>\n",
       "    <tr>\n",
       "      <th>40183</th>\n",
       "      <td>sin información no se puede elegir libremente</td>\n",
       "      <td>[inform, pued, eleg, librement]</td>\n",
       "    </tr>\n",
       "    <tr>\n",
       "      <th>11041</th>\n",
       "      <td>Derecho fundamental, pues permite adquirir conocimientos y alcanzar una vida social plena de ser de calidad, laica , gratuita y promover la libertad y autonomia</td>\n",
       "      <td>[derech, fundamental, pues, permit, adquir, conoc, alcanz, vid, social, plen, ser, calid, laic, gratuit, promov, libert, autonomi]</td>\n",
       "    </tr>\n",
       "    <tr>\n",
       "      <th>396</th>\n",
       "      <td>BÁSICO PARA GARANTIZAR LA VIDA DE LAS PERSONAS. ASEGURAR LOS SERVICIOS QUE MASIVAMENTE SEAN PARA TODOS.</td>\n",
       "      <td>[basic, garantiz, vid, person, asegur, servici, masiv, tod]</td>\n",
       "    </tr>\n",
       "  </tbody>\n",
       "</table>\n",
       "</div>"
      ],
      "text/plain": [
       "                                                                                                                                                                                                                                                                                                                   fundamento  \\\n",
       "group                                                                                                                                                                                                                                                                                                                           \n",
       "blanco        51341  es importante pero también hay otros derechos mas importantes. la mayoría estuvo de acuerdo en incluirlo                                                                                                                                                                                                   \n",
       "              15504  El derecho a la vida según los derechos humanos, pero habemos personas que estamos a favor y en contra del aborto…ahí también hay vida.                                                                                                                                                                    \n",
       "              33398  .                                                                                                                                                                                                                                                                                                          \n",
       "              27068  sin fundamento                                                                                                                                                                                                                                                                                             \n",
       "              47693  sí                                                                                                                                                                                                                                                                                                         \n",
       "factico       12564  todos iguales ante la ley no importando el credo religioso estatus no hay nadie sobre la ley.                                                                                                                                                                                                              \n",
       "              34490  Los niños y adolescentes son una responsabilidad de toda la sociedad. Estos derechos incluyen su salud, educación y bienestar. Estos derechos están incluidos dentro de los derechos humanos, pero se los debe separar de éstos para no invisibilizarlos.                                                  \n",
       "              15884  Como derecho fundamental de una verdadera convivencia humana anterior al Estado                                                                                                                                                                                                                            \n",
       "              49539  Ha permitido a millones de personas en todo el mundo desarrollarse a través de la creación de valor. Es el motor del desarrollo                                                                                                                                                                            \n",
       "              18010  ES UNA ASPIRACIÓN DE CASI TODAS LAS PERSONAS, TENER UN LUGAR PROPIO QUE DE SEGURIDAD Y TRANQUILIDAD.                                                                                                                                                                                                       \n",
       "indeterminado 18903  Hoy en día las viviendas son mas chicas dependiendo el sector en donde se viva, mejorar subsidios, mejor calidad para migrantes                                                                                                                                                                            \n",
       "              40671  Saber lo que pasa en el país, transparencia real como funciona el país. Existe hoy una plataforma  informativa, ley de transparencia. Datos crudos y reales, no procesados.  Discutir que es lo que no se puede trasparentar.                                                                              \n",
       "              20492  Acuerdo mayoritario de los asistentes (9 de 10). El acceso a los beneficios a las personas es inexcusable. Mejorar las pensiones con la eliminación de las AFP, asegurar más ayuda a los vulnerables y dar garantías de probidad y transparencia.                                                          \n",
       "              19096  Necesidad de asegurar este derecho de forma no segregada, revisar planificación urbana.                                                                                                                                                                                                                    \n",
       "              4495   Es parte del derecho a la vida, disponer de una salud acorde a los avances de la medicina.                                                                                                                                                                                                                 \n",
       "propositivo   19385  Para todos y todas como responsabilidad del estado de manera equitativa asegurando la protección de todos los chilenos y chilenas.                                                                                                                                                                         \n",
       "              34495  porque son el futuro de nuestro país y del mundo.                                                                                                                                                                                                                                                          \n",
       "              38979  solo a través del voto podemos definir de manera justa cualquier ley, derecho o deber.                                                                                                                                                                                                                     \n",
       "              48405  Que las comunidades tengamos derecho a la ciberinformación (más rápida) pública                                                                                                                                                                                                                            \n",
       "              47025  Por acuerdo de todas y todos quienes participaron, acordamos agrupar el derecho a la salud (y los asociados a este), derecho al trabajo (derechos asociados a este), derecho a la educación ( y derechos asociados a este) y derecho a la vivienda (y derechos asociados a este) como derechos sociales.   \n",
       "valorativo    47395  Para alcanzar los principios de felicidad e integralidad social                                                                                                                                                                                                                                            \n",
       "              30668  El Hecho de vivir en una sociedad implica el poder participar en las decisiones macro                                                                                                                                                                                                                      \n",
       "              40183  sin información no se puede elegir libremente                                                                                                                                                                                                                                                              \n",
       "              11041  Derecho fundamental, pues permite adquirir conocimientos y alcanzar una vida social plena de ser de calidad, laica , gratuita y promover la libertad y autonomia                                                                                                                                           \n",
       "              396    BÁSICO PARA GARANTIZAR LA VIDA DE LAS PERSONAS. ASEGURAR LOS SERVICIOS QUE MASIVAMENTE SEAN PARA TODOS.                                                                                                                                                                                                    \n",
       "\n",
       "                                                                                                                                                                                                     texto_procesado  \n",
       "group                                                                                                                                                                                                                 \n",
       "blanco        51341  [import, derech, mas, import, mayor, acuerd, inclu]                                                                                                                                              \n",
       "              15504  [derech, vid, segun, derech, human, hab, person, favor, aborto…ah, vid]                                                                                                                          \n",
       "              33398  []                                                                                                                                                                                               \n",
       "              27068  [fundament]                                                                                                                                                                                      \n",
       "              47693  []                                                                                                                                                                                               \n",
       "factico       12564  [igual, ley, import, cred, religi, estatus, nadi, ley]                                                                                                                                           \n",
       "              34490  [niñ, adolescent, respons, tod, socied, derech, inclu, salud, educ, bienest, derech, inclu, dentr, derech, human, deb, separ, estos, invisibiliz]                                                \n",
       "              15884  [derech, fundamental, verdader, convivent, human, anterior]                                                                                                                                      \n",
       "              49539  [permit, millon, person, mund, desarroll, traves, creacion, valor, motor, desarroll]                                                                                                             \n",
       "              18010  [aspir, casi, tod, person, ten, lug, propi, segur, tranquil]                                                                                                                                     \n",
       "indeterminado 18903  [hoy, dia, viviend, mas, chic, depend, sector, viv, mejor, subsidi, mejor, calid, migrant]                                                                                                       \n",
       "              40671  [sab, pas, pais, transparent, real, funcion, pais, exist, hoy, plataform, inform, ley, transparent, dat, crud, real, proces, discut, pued, trasparent]                                           \n",
       "              20492  [acuerd, mayoritari, asistent, 10, acces, benefici, person, inexcus, mejor, pension, elimin, afp, asegur, ayud, vulner, dar, garant, probid, transparent]                                        \n",
       "              19096  [neces, asegur, derech, form, segreg, revis, planif, urban]                                                                                                                                      \n",
       "              4495   [part, derech, vid, dispon, salud, acord, avanc, medicin]                                                                                                                                        \n",
       "propositivo   19385  [tod, respons, maner, equit, asegur, proteccion, chilen, chilen]                                                                                                                                 \n",
       "              34495  [futur, pais, mund]                                                                                                                                                                              \n",
       "              38979  [sol, traves, vot, pod, defin, maner, just, cualqui, ley, derech, deb]                                                                                                                           \n",
       "              48405  [comun, derech, ciberinform, mas, rap, public]                                                                                                                                                   \n",
       "              47025  [acuerd, tod, particip, acord, agrup, derech, salud, asoci, este, derech, trabaj, derech, asoci, este, derech, educ, derech, asoci, este, derech, viviend, derech, asoci, este, derech, social]  \n",
       "valorativo    47395  [alcanz, principi, felic, integral, social]                                                                                                                                                      \n",
       "              30668  [hech, viv, socied, implic, pod, particip, decision, macr]                                                                                                                                       \n",
       "              40183  [inform, pued, eleg, librement]                                                                                                                                                                  \n",
       "              11041  [derech, fundamental, pues, permit, adquir, conoc, alcanz, vid, social, plen, ser, calid, laic, gratuit, promov, libert, autonomi]                                                               \n",
       "              396    [basic, garantiz, vid, person, asegur, servici, masiv, tod]                                                                                                                                      "
      ]
     },
     "execution_count": 17,
     "metadata": {},
     "output_type": "execute_result"
    }
   ],
   "source": [
    "docs_df.groupby('group').apply(lambda x: x.sample(5))[['fundamento', 'texto_procesado']]"
   ]
  },
  {
   "cell_type": "markdown",
   "metadata": {},
   "source": [
    "## Vocabulario"
   ]
  },
  {
   "cell_type": "code",
   "execution_count": 18,
   "metadata": {
    "collapsed": false
   },
   "outputs": [
    {
     "name": "stderr",
     "output_type": "stream",
     "text": [
      "100%|██████████| 51867/51867 [00:00<00:00, 138163.90it/s]\n"
     ]
    }
   ],
   "source": [
    "vocab = Counter()\n",
    "for tokens in tqdm(processed_texts):\n",
    "    for token in tokens:\n",
    "        vocab[token] += 1"
   ]
  },
  {
   "cell_type": "code",
   "execution_count": 19,
   "metadata": {
    "collapsed": false
   },
   "outputs": [
    {
     "data": {
      "text/html": [
       "<div>\n",
       "<table border=\"1\" class=\"dataframe\">\n",
       "  <thead>\n",
       "    <tr style=\"text-align: right;\">\n",
       "      <th></th>\n",
       "      <th>freq</th>\n",
       "      <th>word</th>\n",
       "    </tr>\n",
       "  </thead>\n",
       "  <tbody>\n",
       "    <tr>\n",
       "      <th>0</th>\n",
       "      <td>25495</td>\n",
       "      <td>derech</td>\n",
       "    </tr>\n",
       "    <tr>\n",
       "      <th>1</th>\n",
       "      <td>19617</td>\n",
       "      <td>deb</td>\n",
       "    </tr>\n",
       "    <tr>\n",
       "      <th>2</th>\n",
       "      <td>9281</td>\n",
       "      <td>ser</td>\n",
       "    </tr>\n",
       "    <tr>\n",
       "      <th>3</th>\n",
       "      <td>7857</td>\n",
       "      <td>person</td>\n",
       "    </tr>\n",
       "    <tr>\n",
       "      <th>4</th>\n",
       "      <td>7695</td>\n",
       "      <td>salud</td>\n",
       "    </tr>\n",
       "    <tr>\n",
       "      <th>5</th>\n",
       "      <td>7320</td>\n",
       "      <td>calid</td>\n",
       "    </tr>\n",
       "    <tr>\n",
       "      <th>6</th>\n",
       "      <td>6718</td>\n",
       "      <td>garantiz</td>\n",
       "    </tr>\n",
       "    <tr>\n",
       "      <th>7</th>\n",
       "      <td>6709</td>\n",
       "      <td>educ</td>\n",
       "    </tr>\n",
       "    <tr>\n",
       "      <th>8</th>\n",
       "      <td>5959</td>\n",
       "      <td>vid</td>\n",
       "    </tr>\n",
       "    <tr>\n",
       "      <th>9</th>\n",
       "      <td>5876</td>\n",
       "      <td>tod</td>\n",
       "    </tr>\n",
       "  </tbody>\n",
       "</table>\n",
       "</div>"
      ],
      "text/plain": [
       "    freq      word\n",
       "0  25495  derech  \n",
       "1  19617  deb     \n",
       "2  9281   ser     \n",
       "3  7857   person  \n",
       "4  7695   salud   \n",
       "5  7320   calid   \n",
       "6  6718   garantiz\n",
       "7  6709   educ    \n",
       "8  5959   vid     \n",
       "9  5876   tod     "
      ]
     },
     "execution_count": 19,
     "metadata": {},
     "output_type": "execute_result"
    }
   ],
   "source": [
    "k = 10\n",
    "tmp = pd.DataFrame({'word': list(map(itemgetter(0), vocab.most_common(k))),\n",
    "                    'freq': list(map(itemgetter(1), vocab.most_common(k)))})\n",
    "tmp"
   ]
  },
  {
   "cell_type": "markdown",
   "metadata": {},
   "source": [
    "# Clasificación"
   ]
  },
  {
   "cell_type": "code",
   "execution_count": 20,
   "metadata": {
    "collapsed": false
   },
   "outputs": [
    {
     "name": "stdout",
     "output_type": "stream",
     "text": [
      "3 34501 0.66518 ['propositivo']\n",
      "1 9647 0.18599 ['factico']\n",
      "2 3974 0.07662 ['indeterminado']\n",
      "4 2167 0.04178 ['valorativo']\n",
      "0 1578 0.03042 ['blanco']\n"
     ]
    }
   ],
   "source": [
    "total = sum(Counter(y).values())\n",
    "\n",
    "for label, count in Counter(y).most_common():\n",
    "    print(label, count, '%.5f' % (count / total), le.inverse_transform([label]))"
   ]
  },
  {
   "cell_type": "code",
   "execution_count": 21,
   "metadata": {
    "collapsed": false
   },
   "outputs": [],
   "source": [
    "X_train, X_test, y_train, y_test = model_selection.train_test_split(X, y, \n",
    "                                                                    test_size=.33, \n",
    "                                                                    random_state=SEED, \n",
    "                                                                    stratify=y)"
   ]
  },
  {
   "cell_type": "code",
   "execution_count": 22,
   "metadata": {
    "collapsed": false
   },
   "outputs": [
    {
     "data": {
      "text/plain": [
       "['blanco', 'factico', 'indeterminado', 'propositivo', 'valorativo']"
      ]
     },
     "execution_count": 22,
     "metadata": {},
     "output_type": "execute_result"
    }
   ],
   "source": [
    "target_names = le.inverse_transform(range(max(y) + 1)).tolist()\n",
    "target_names"
   ]
  },
  {
   "cell_type": "code",
   "execution_count": 23,
   "metadata": {
    "collapsed": false
   },
   "outputs": [
    {
     "name": "stdout",
     "output_type": "stream",
     "text": [
      "y distribution\n",
      "3    0.665182\n",
      "1    0.185995\n",
      "2    0.076619\n",
      "4    0.041780\n",
      "0    0.030424\n",
      "dtype: float64\n",
      "\n",
      "y_train distribution\n",
      "3    0.665180\n",
      "1    0.185986\n",
      "2    0.076633\n",
      "4    0.041784\n",
      "0    0.030417\n",
      "dtype: float64\n",
      "\n",
      "y_test distribution\n",
      "3    0.665187\n",
      "1    0.186014\n",
      "2    0.076591\n",
      "4    0.041771\n",
      "0    0.030438\n",
      "dtype: float64\n"
     ]
    }
   ],
   "source": [
    "print(\"y distribution\")\n",
    "print(pd.Series(y).value_counts(normalize=True))\n",
    "print()\n",
    "print(\"y_train distribution\")\n",
    "print(pd.Series(y_train).value_counts(normalize=True))\n",
    "print()\n",
    "print(\"y_test distribution\")\n",
    "print(pd.Series(y_test).value_counts(normalize=True))"
   ]
  },
  {
   "cell_type": "code",
   "execution_count": 32,
   "metadata": {
    "collapsed": false
   },
   "outputs": [],
   "source": [
    "X_train_dense = X_train.todense()\n",
    "X_test_dense = X_test.todense()\n",
    "X_dense = X.todense()"
   ]
  },
  {
   "cell_type": "code",
   "execution_count": 33,
   "metadata": {
    "collapsed": false
   },
   "outputs": [],
   "source": [
    "#### los archivos resultantes son muy grandes para weka\n",
    "with open('train.csv', 'w') as f:\n",
    "    for row, label in zip(X_train_dense, y_train):\n",
    "        f.write(','.join(map(str, row.tolist()[0])) + ',' + le.inverse_transform(label) + '\\n')\n",
    "\n",
    "with open('test.csv', 'w') as f:\n",
    "    for row, label in zip(X_test_dense, y_test):\n",
    "        f.write(','.join(map(str, row.tolist()[0])) + ',' + le.inverse_transform(label) + '\\n')\n",
    "\n",
    "with open('full.csv', 'w') as f:\n",
    "    for row, label in zip(X_dense, y):\n",
    "        f.write(','.join(map(str, row.tolist()[0])) + ',' + le.inverse_transform(label) + '\\n')"
   ]
  },
  {
   "cell_type": "code",
   "execution_count": null,
   "metadata": {
    "collapsed": false
   },
   "outputs": [
    {
     "name": "stdout",
     "output_type": "stream",
     "text": [
      "Base\n",
      "               precision    recall  f1-score   support\n",
      "\n",
      "       blanco       0.03      0.03      0.03       521\n",
      "      factico       0.18      0.18      0.18      3184\n",
      "indeterminado       0.07      0.08      0.08      1311\n",
      "  propositivo       0.66      0.67      0.67     11386\n",
      "   valorativo       0.03      0.03      0.03       715\n",
      "\n",
      "  avg / total       0.48      0.49      0.49     17117\n",
      "\n",
      "SVM\n"
     ]
    },
    {
     "name": "stderr",
     "output_type": "stream",
     "text": [
      "/Users/mquezada/anaconda3/envs/ams/lib/python3.6/site-packages/sklearn/metrics/classification.py:1113: UndefinedMetricWarning: Precision and F-score are ill-defined and being set to 0.0 in labels with no predicted samples.\n",
      "  'precision', 'predicted', average, warn_for)\n"
     ]
    },
    {
     "name": "stdout",
     "output_type": "stream",
     "text": [
      "               precision    recall  f1-score   support\n",
      "\n",
      "       blanco       0.00      0.00      0.00       521\n",
      "      factico       0.00      0.00      0.00      3184\n",
      "indeterminado       0.00      0.00      0.00      1311\n",
      "  propositivo       0.67      1.00      0.80     11386\n",
      "   valorativo       0.00      0.00      0.00       715\n",
      "\n",
      "  avg / total       0.44      0.67      0.53     17117\n",
      "\n",
      "SVM\n",
      "               precision    recall  f1-score   support\n",
      "\n",
      "       blanco       0.57      0.41      0.48       521\n",
      "      factico       0.55      0.25      0.35      3184\n",
      "indeterminado       0.42      0.03      0.05      1311\n",
      "  propositivo       0.73      0.97      0.83     11386\n",
      "   valorativo       0.57      0.02      0.04       715\n",
      "\n",
      "  avg / total       0.66      0.71      0.64     17117\n",
      "\n",
      "DT\n",
      "               precision    recall  f1-score   support\n",
      "\n",
      "       blanco       0.48      0.72      0.58       521\n",
      "      factico       0.38      0.35      0.36      3184\n",
      "indeterminado       0.15      0.09      0.11      1311\n",
      "  propositivo       0.77      0.81      0.79     11386\n",
      "   valorativo       0.20      0.17      0.18       715\n",
      "\n",
      "  avg / total       0.62      0.64      0.63     17117\n",
      "\n",
      "NB\n",
      "               precision    recall  f1-score   support\n",
      "\n",
      "       blanco       0.11      0.84      0.19       521\n",
      "      factico       0.17      0.11      0.14      3184\n",
      "indeterminado       0.09      0.19      0.12      1311\n",
      "  propositivo       0.73      0.12      0.21     11386\n",
      "   valorativo       0.06      0.52      0.11       715\n",
      "\n",
      "  avg / total       0.53      0.16      0.18     17117\n",
      "\n",
      "KNN\n"
     ]
    }
   ],
   "source": [
    "c0 = (\"Base\", DummyClassifier(strategy='stratified'))\n",
    "c1 = (\"SVM\", SVC(kernel='rbf'))\n",
    "c2 = (\"SVM\", SVC(kernel='linear'))\n",
    "c3 = (\"DT\", DecisionTreeClassifier())\n",
    "c4 = (\"NB\", GaussianNB())\n",
    "c5 = (\"KNN\", KNeighborsClassifier(n_neighbors=5))\n",
    "\n",
    "clfs = [c0, c1, c2, c3, c4, c5]\n",
    "\n",
    "for name, clf in clfs:\n",
    "    print(name)\n",
    "    clf.fit(X_train_d, y_train)\n",
    "    y_pred = clf.predict(X_test_d)\n",
    "    print(classification_report(y_test, y_pred, target_names=target_names))"
   ]
  },
  {
   "cell_type": "code",
   "execution_count": null,
   "metadata": {
    "collapsed": true
   },
   "outputs": [],
   "source": []
  }
 ],
 "metadata": {
  "kernelspec": {
   "display_name": "Python 3",
   "language": "python",
   "name": "python3"
  },
  "language_info": {
   "codemirror_mode": {
    "name": "ipython",
    "version": 3
   },
   "file_extension": ".py",
   "mimetype": "text/x-python",
   "name": "python",
   "nbconvert_exporter": "python",
   "pygments_lexer": "ipython3",
   "version": "3.6.0"
  }
 },
 "nbformat": 4,
 "nbformat_minor": 2
}
