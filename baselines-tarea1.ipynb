{
 "cells": [
  {
   "cell_type": "code",
   "execution_count": 119,
   "metadata": {
    "collapsed": false,
    "deletable": true,
    "editable": true
   },
   "outputs": [
    {
     "name": "stdout",
     "output_type": "stream",
     "text": [
      "2017-05-22T18:07:35-04:00\n",
      "\n",
      "CPython 3.6.0\n",
      "IPython 5.3.0\n",
      "\n",
      "compiler   : GCC 4.2.1 Compatible Apple LLVM 6.0 (clang-600.0.57)\n",
      "system     : Darwin\n",
      "release    : 16.5.0\n",
      "machine    : x86_64\n",
      "processor  : i386\n",
      "CPU cores  : 4\n",
      "interpreter: 64bit\n"
     ]
    }
   ],
   "source": [
    "%load_ext watermark\n",
    "%watermark"
   ]
  },
  {
   "cell_type": "code",
   "execution_count": 186,
   "metadata": {
    "collapsed": true,
    "deletable": true,
    "editable": true
   },
   "outputs": [],
   "source": [
    "from tf_idf import preprocess_fundamentos, remove_accents\n",
    "from sklearn import model_selection\n",
    "from tqdm import tqdm, trange\n",
    "from collections import Counter, defaultdict\n",
    "from operator import itemgetter\n",
    "\n",
    "from sqlalchemy import create_engine\n",
    "from sqlalchemy.orm import sessionmaker\n",
    "from models import PNUD\n",
    "import logging\n",
    "import random\n",
    "import pandas as pd\n",
    "import numpy as np\n",
    "import unicodedata\n",
    "import re\n",
    "import itertools\n",
    "\n",
    "from pathlib import Path\n",
    "from pprint import pprint\n",
    "\n",
    "from sklearn import metrics\n",
    "from sklearn.preprocessing import LabelEncoder\n",
    "from sklearn.dummy import DummyClassifier\n",
    "from sklearn.svm import SVC  # support vector machine classifier\n",
    "from sklearn.tree import DecisionTreeClassifier\n",
    "from sklearn.naive_bayes import GaussianNB  # naive bayes\n",
    "from sklearn.linear_model import SGDClassifier\n",
    "from sklearn.naive_bayes import MultinomialNB\n",
    "from sklearn.neighbors import KNeighborsClassifier\n",
    "from sklearn.feature_extraction.text import CountVectorizer, TfidfVectorizer, TfidfTransformer\n",
    "from sklearn.pipeline import Pipeline\n",
    "\n",
    "from nltk.corpus import stopwords\n",
    "from nltk.stem import SnowballStemmer\n",
    "from nltk.tokenize import sent_tokenize, word_tokenize, wordpunct_tokenize\n",
    "import string\n",
    "import sys\n",
    "\n",
    "import subprocess\n",
    "\n",
    "logger = logging.getLogger(__name__)\n",
    "\n",
    "# engine = create_engine('mysql://root@localhost/constabierta')\n",
    "# _session = sessionmaker(bind=engine, autocommit=True, expire_on_commit=True)\n",
    "# session = _session()\n",
    "\n",
    "data_dir = Path('data/')\n",
    "temas = list(range(1, 5))\n",
    "stop_words = stopwords.words('spanish')\n",
    "stemmer = SnowballStemmer('spanish')"
   ]
  },
  {
   "cell_type": "code",
   "execution_count": 166,
   "metadata": {
    "collapsed": true,
    "deletable": true,
    "editable": true
   },
   "outputs": [],
   "source": [
    "def remove_accents(s):\n",
    "    return unicodedata.normalize('NFKD', s) \\\n",
    "        .encode('ASCII', 'ignore') \\\n",
    "        .decode('utf-8')\n",
    "            \n",
    "def cleaner(token):\n",
    "    if token in stop_words or token in string.punctuation:\n",
    "        return None\n",
    "    return remove_accents(token)"
   ]
  },
  {
   "cell_type": "markdown",
   "metadata": {
    "deletable": true,
    "editable": true
   },
   "source": [
    "# Feature Extraction con FreeLing"
   ]
  },
  {
   "cell_type": "markdown",
   "metadata": {
    "deletable": true,
    "editable": true
   },
   "source": [
    "Freeling no se lleva bien con strings de sólo mayúsculas. Los convertiremos a lowercase:"
   ]
  },
  {
   "cell_type": "code",
   "execution_count": 72,
   "metadata": {
    "collapsed": false,
    "deletable": true,
    "editable": true
   },
   "outputs": [
    {
     "name": "stderr",
     "output_type": "stream",
     "text": [
      "100%|██████████| 12/12 [00:01<00:00,  4.75it/s]\n"
     ]
    }
   ],
   "source": [
    "# CONVERTIR ARCHIVOS\n",
    "\n",
    "### convierte los archivos x_*_tema_*_categorias_pnud_0.txt \n",
    "### en lowercase x_*_tema_*_categorias_pnud_0_lower.txt\n",
    "\n",
    "### ¿BUG? en freeling: si hay una frase del tipo \"hola. ¿esto es una pregunta?\",\n",
    "### freeling considera esa frase como dos documentos, separados por el \". ¿\"\n",
    "### al pasar a lowercase, se elimina el \".\" de ese tipo de frases\n",
    "\n",
    "### hay más casos parecidos con la puntuación, se reemplaza toda punto por coma\n",
    "\n",
    "x_files = [d.as_posix() for d in data_dir.glob('x_*_tema_*_categorias_pnud_0.txt')]\n",
    "x_files_lower = list(map(lambda f: f.split('.')[0] + '_lower.txt', x_files))\n",
    "\n",
    "for x_file, x_file_lower in tqdm(zip(x_files, x_files_lower), total=len(x_files)):\n",
    "    with open(x_file, 'r') as f, open(x_file_lower, 'w') as g:\n",
    "        for line in f:\n",
    "            to_write = line.lower().replace('.', ',')\n",
    "            to_write = re.sub('\\?+ *¿', '?, ¿', to_write)\n",
    "            \n",
    "            #g.write(re.sub('\\.+ *¿', ' ¿', line.lower()))\n",
    "            g.write(to_write)"
   ]
  },
  {
   "cell_type": "code",
   "execution_count": 73,
   "metadata": {
    "collapsed": false,
    "deletable": true,
    "editable": true
   },
   "outputs": [
    {
     "name": "stderr",
     "output_type": "stream",
     "text": [
      "100%|██████████| 4/4 [07:52<00:00, 117.64s/it]\n"
     ]
    }
   ],
   "source": [
    "# GENERAR ARCHIVOS CON FREELING\n",
    "\n",
    "# freeling\n",
    "for tema in tqdm(temas):\n",
    "    x_files = [d.as_posix() for d in data_dir.glob(f'x_*_tema_{tema}_categorias_pnud_0_lower.txt')]\n",
    "    for input_file in x_files:\n",
    "        output_file = input_file.split('.')[0] + '_fl.txt'\n",
    "        subprocess.getoutput(f'analyze -f freeling_es.cfg < {input_file} > {output_file}')"
   ]
  },
  {
   "cell_type": "code",
   "execution_count": 125,
   "metadata": {
    "collapsed": false,
    "deletable": true,
    "editable": true
   },
   "outputs": [
    {
     "name": "stderr",
     "output_type": "stream",
     "text": [
      "temas: 100%|██████████| 4/4 [00:13<00:00,  3.37s/it]\n"
     ]
    }
   ],
   "source": [
    "# CARGAR ARCHIVOS\n",
    "\n",
    "temas = range(1, 5)\n",
    "\n",
    "# load freeling processed files\n",
    "docs_train = defaultdict(list)\n",
    "docs_dev = defaultdict(list)\n",
    "docs_test = defaultdict(list)\n",
    "\n",
    "for tema in tqdm(temas, desc=\"temas\"):\n",
    "    logger.info(\"train\")\n",
    "    with Path('data', f'x_train_tema_{tema}_categorias_pnud_0_lower_fl.txt').open('r') as f:\n",
    "        doc = []\n",
    "        for line in f:\n",
    "            if not line.strip():\n",
    "                docs_train[tema].append(doc)\n",
    "                doc = []\n",
    "                continue\n",
    "            doc.append(line[:-1].split()[1:6])\n",
    "            \n",
    "    logger.info(\"dev\")\n",
    "    with Path('data', f'x_dev_tema_{tema}_categorias_pnud_0_lower_fl.txt').open('r') as g:\n",
    "        doc = []\n",
    "        for line in g:\n",
    "            if not line.strip():\n",
    "                docs_dev[tema].append(doc)\n",
    "                doc = []\n",
    "                continue\n",
    "            doc.append(line[:-1].split()[1:6])\n",
    "            \n",
    "    logger.info(\"test\")\n",
    "    with Path('data', f'x_test_tema_{tema}_categorias_pnud_0_lower_fl.txt').open('r') as h:\n",
    "        doc = []\n",
    "        for line in h:\n",
    "            if not line.strip():\n",
    "                docs_test[tema].append(doc)\n",
    "                doc = []\n",
    "                continue\n",
    "            doc.append(line[:-1].split()[1:6])"
   ]
  },
  {
   "cell_type": "code",
   "execution_count": 168,
   "metadata": {
    "collapsed": false,
    "deletable": true,
    "editable": true
   },
   "outputs": [
    {
     "name": "stderr",
     "output_type": "stream",
     "text": [
      "train (tema 1)\t: 100%|██████████| 36886/36886 [00:04<00:00, 8978.49it/s]\n",
      "dev (tema 1)\t: 100%|██████████| 4611/4611 [00:00<00:00, 8061.77it/s]\n",
      "test (tema 1)\t: 100%|██████████| 4611/4611 [00:00<00:00, 8141.04it/s]\n",
      "train (tema 2)\t: 100%|██████████| 34963/34963 [00:04<00:00, 8733.44it/s]\n",
      "dev (tema 2)\t: 100%|██████████| 4371/4371 [00:00<00:00, 7937.89it/s]\n",
      "test (tema 2)\t: 100%|██████████| 4370/4370 [00:00<00:00, 7613.67it/s]\n",
      "train (tema 3)\t: 100%|██████████| 32104/32104 [00:03<00:00, 9823.79it/s] \n",
      "dev (tema 3)\t: 100%|██████████| 4013/4013 [00:00<00:00, 7780.63it/s]\n",
      "test (tema 3)\t: 100%|██████████| 4013/4013 [00:00<00:00, 8574.49it/s]\n",
      "train (tema 4)\t: 100%|██████████| 31440/31440 [00:03<00:00, 10038.14it/s]\n",
      "dev (tema 4)\t: 100%|██████████| 3930/3930 [00:00<00:00, 8681.61it/s] \n",
      "test (tema 4)\t: 100%|██████████| 3930/3930 [00:00<00:00, 9362.14it/s]\n"
     ]
    }
   ],
   "source": [
    "# prepare train & test data\n",
    "\n",
    "temas = range(1, 5)\n",
    "train = defaultdict(list)\n",
    "dev = defaultdict(list)\n",
    "test = defaultdict(list)\n",
    "\n",
    "# para cada tokenset (dado por freeling):\n",
    "# ejemplo:\n",
    "# ['los',   <--- token original\n",
    "# 'el',     <--- lema\n",
    "# 'DA0MP0', <--- POS\n",
    "# 'DA',     <--- POS2\n",
    "# 'pos=determiner|type=article|gen=masculine|num=plural']  <--- detalle de POS\n",
    "# usamos el lema sin caracteres no-ascii y filtramos stopwords y puntuacion\n",
    "\n",
    "for tema in temas:\n",
    "    for doc in tqdm(docs_train[tema], f\"train (tema {tema})\\t\"):\n",
    "        tokens = map(itemgetter(1), doc)\n",
    "        tokens = map(cleaner, tokens)\n",
    "        tokens = filter(lambda t: t is not None, tokens)\n",
    "        train[tema].append(list(tokens))\n",
    "        \n",
    "    for doc in tqdm(docs_dev[tema], f\"dev (tema {tema})\\t\"):\n",
    "        tokens = map(itemgetter(1), doc)\n",
    "        tokens = map(cleaner, tokens)\n",
    "        tokens = filter(lambda t: t is not None, tokens)\n",
    "        dev[tema].append(list(tokens))\n",
    "        \n",
    "    for doc in tqdm(docs_test[tema], f\"test (tema {tema})\\t\"):\n",
    "        tokens = map(itemgetter(1), doc)\n",
    "        tokens = map(cleaner, tokens)\n",
    "        tokens = filter(lambda t: t is not None, tokens)\n",
    "        test[tema].append(list(tokens))"
   ]
  },
  {
   "cell_type": "code",
   "execution_count": 128,
   "metadata": {
    "collapsed": false,
    "deletable": true,
    "editable": true
   },
   "outputs": [
    {
     "name": "stderr",
     "output_type": "stream",
     "text": [
      "100%|██████████| 4/4 [00:00<00:00, 14.04it/s]\n"
     ]
    }
   ],
   "source": [
    "y_train = defaultdict(list)\n",
    "y_dev = defaultdict(list)\n",
    "y_test = defaultdict(list)\n",
    "target_names = defaultdict(list)\n",
    "\n",
    "for tema in tqdm(temas):\n",
    "    # train\n",
    "    with Path('data', f'y_train_tema_{tema}_categorias_pnud_0.txt').open('r') as f:\n",
    "        y_train[tema] = [int(line[:-1]) for line in f]\n",
    "\n",
    "    # dev\n",
    "    with Path('data', f'y_dev_tema_{tema}_categorias_pnud_0.txt').open('r') as f:\n",
    "        y_dev[tema] = [int(line[:-1]) for line in f]\n",
    "\n",
    "    # test\n",
    "    with Path('data', f'y_test_tema_{tema}_categorias_pnud_0.txt').open('r') as f:\n",
    "        y_test[tema] = [int(line[:-1]) for line in f]\n",
    "    \n",
    "    # labels\n",
    "    with Path('data', f'categorias_tema_{tema}_pnud_0.txt').open('r') as f:\n",
    "        target_names[tema] = list(map(lambda l: l[:-1], f.readlines()))"
   ]
  },
  {
   "cell_type": "code",
   "execution_count": null,
   "metadata": {
    "collapsed": true
   },
   "outputs": [],
   "source": [
    "# DEBUG\n",
    "\n",
    "# para encontrar mismatchs entre datos originales y producidos por freeling:\n",
    "lines = []\n",
    "with open('data/x_train_tema_1_categorias_pnud_0_lower_fl.txt', 'r') as f:\n",
    "    with open('data/x_train_tema_1_categorias_pnud_0_lower.txt', 'r') as g:\n",
    "        g_lines = g.readlines()\n",
    "        doc_p = set()\n",
    "        i = 0\n",
    "        for line in tqdm(f.readlines()):\n",
    "            if not line.strip():\n",
    "                doc_o = set(g_lines[i].split())\n",
    "                jacc = len(doc_o & doc_p) / len(doc_o | doc_p)\n",
    "                if jacc < 0.001:\n",
    "                    lines.append((i, ' '.join(sorted(list(doc_o))), ' '.join(sorted(list(doc_p)))))\n",
    "                i += 1\n",
    "                doc_p = set()\n",
    "                continue\n",
    "            doc_p.add(line.split()[1])"
   ]
  },
  {
   "cell_type": "markdown",
   "metadata": {},
   "source": [
    "# Sanity checks\n",
    "\n",
    "Verificar si las dimensiones de los datasets son correctas"
   ]
  },
  {
   "cell_type": "code",
   "execution_count": 171,
   "metadata": {
    "collapsed": false
   },
   "outputs": [
    {
     "name": "stdout",
     "output_type": "stream",
     "text": [
      "tema:\t1\n",
      "train:\t✅\n",
      "dev:\t✅\n",
      "test\t✅\n",
      "\n",
      "tema:\t2\n",
      "train:\t✅\n",
      "dev:\t✅\n",
      "test\t✅\n",
      "\n",
      "tema:\t3\n",
      "train:\t✅\n",
      "dev:\t✅\n",
      "test\t✅\n",
      "\n",
      "tema:\t4\n",
      "train:\t✅\n",
      "dev:\t✅\n",
      "test\t✅\n",
      "\n"
     ]
    }
   ],
   "source": [
    "for tema in temas:\n",
    "    print(f'tema:\\t{tema}')\n",
    "    print(f'train:', ('✅' if len(train[tema]) == len(y_train[tema]) else '❌'), sep='\\t')\n",
    "    print(f'dev:', ('✅' if len(dev[tema]) == len(y_dev[tema]) else '❌'), sep='\\t')\n",
    "    print(f'test', ('✅' if len(test[tema]) == len(y_test[tema]) else '❌'), sep='\\t')\n",
    "    print()"
   ]
  },
  {
   "cell_type": "code",
   "execution_count": 173,
   "metadata": {
    "collapsed": false
   },
   "outputs": [
    {
     "data": {
      "text/plain": [
       "[['gobierno',\n",
       "  'deber',\n",
       "  'ser',\n",
       "  'trasparente',\n",
       "  'informar',\n",
       "  'antes_de',\n",
       "  'gastar',\n",
       "  'dinero',\n",
       "  'informar',\n",
       "  'publicitar',\n",
       "  'proyecto',\n",
       "  'ejecutar'],\n",
       " ['responsable', 'amplio', 'libre', 'participativo', 'sano'],\n",
       " ['mejor',\n",
       "  'justicia',\n",
       "  'falta',\n",
       "  'pueblo',\n",
       "  'ciudad',\n",
       "  'persona',\n",
       "  'mejor',\n",
       "  'manera',\n",
       "  'mantener',\n",
       "  'pais',\n",
       "  'contento',\n",
       "  'convivencia',\n",
       "  'respeto',\n",
       "  'institucion',\n",
       "  'deber',\n",
       "  'ser',\n",
       "  'justo',\n",
       "  'origen',\n",
       "  'aplicacion']]"
      ]
     },
     "execution_count": 173,
     "metadata": {},
     "output_type": "execute_result"
    }
   ],
   "source": [
    "train[1][:3]"
   ]
  },
  {
   "cell_type": "code",
   "execution_count": 167,
   "metadata": {
    "collapsed": false
   },
   "outputs": [
    {
     "data": {
      "text/plain": [
       "['los',\n",
       " 'el',\n",
       " 'DA0MP0',\n",
       " 'DA',\n",
       " 'pos=determiner|type=article|gen=masculine|num=plural']"
      ]
     },
     "execution_count": 167,
     "metadata": {},
     "output_type": "execute_result"
    }
   ],
   "source": [
    "docs_train[1][0][0]"
   ]
  },
  {
   "cell_type": "code",
   "execution_count": 184,
   "metadata": {
    "collapsed": false
   },
   "outputs": [
    {
     "name": "stdout",
     "output_type": "stream",
     "text": [
      "[('chao', 0), ('conejo', 1), ('gato', 2), ('hola', 3), ('perro', 4)]\n"
     ]
    },
    {
     "data": {
      "text/plain": [
       "matrix([[0, 1, 1, 0, 1],\n",
       "        [0, 0, 1, 1, 0],\n",
       "        [1, 0, 0, 0, 1]], dtype=int64)"
      ]
     },
     "execution_count": 184,
     "metadata": {},
     "output_type": "execute_result"
    }
   ],
   "source": [
    "cnt = CountVectorizer(ngram_range=(1, 1))\n",
    "data = ['gato perro conejo', 'hola gato', 'chao perro']\n",
    "m = cnt.fit_transform(data)\n",
    "print(sorted(cnt.vocabulary_.items(), key=itemgetter(1)))\n",
    "m.todense()"
   ]
  },
  {
   "cell_type": "code",
   "execution_count": 146,
   "metadata": {
    "collapsed": false
   },
   "outputs": [
    {
     "data": {
      "text/plain": [
       "matrix([[ 0.        ,  0.57735027,  0.57735027,  0.        ,  0.57735027],\n",
       "        [ 0.        ,  0.        ,  0.70710678,  0.70710678,  0.        ],\n",
       "        [ 0.70710678,  0.        ,  0.        ,  0.        ,  0.70710678]])"
      ]
     },
     "execution_count": 146,
     "metadata": {},
     "output_type": "execute_result"
    }
   ],
   "source": [
    "tf = TfidfTransformer(use_idf=False)\n",
    "m2 = tf.transform(m)\n",
    "m2.todense()"
   ]
  },
  {
   "cell_type": "markdown",
   "metadata": {},
   "source": [
    "----"
   ]
  },
  {
   "cell_type": "markdown",
   "metadata": {},
   "source": [
    "# Definir experimentos\n",
    "\n",
    "1. Features\n",
    "    1. tokens\n",
    "    2. tokens + POS\n",
    "    3. tokens + POS + estructural (largo frase, nº de oraciones, ?)\n",
    "2. Representación\n",
    "    2. Conteo de unigramas\n",
    "    2. Conteo de bigramas\n",
    "    3. Unigramas normalizado por documento (tf)\n",
    "    3. Bigramas normalizado por documento (tf)\n",
    "    4. Unigramas normalizado por corpus (tf-idf)\n",
    "    4. Bigramas normalizado por corpus (tf-idf)    \n",
    "3. Clasificadores\n",
    "    1. Dummy stratified\n",
    "    2. Multinomial NB\n",
    "    3. SVC (linear)\n",
    "    6. Random forest\n",
    "    5. KNN\n",
    "4. Medidas de rendimiento\n",
    "    1. Precision, recall, f1, accuracy @1\n",
    "    2. Precision, recall, f1, accuracy @5"
   ]
  },
  {
   "cell_type": "markdown",
   "metadata": {},
   "source": [
    "## 1. Features"
   ]
  },
  {
   "cell_type": "code",
   "execution_count": 176,
   "metadata": {
    "collapsed": true
   },
   "outputs": [],
   "source": [
    "# train, test, & dev contienen sólo los tokens por ahora (19:00 may 22)"
   ]
  },
  {
   "cell_type": "markdown",
   "metadata": {},
   "source": [
    "## 2. Representación"
   ]
  },
  {
   "cell_type": "code",
   "execution_count": 200,
   "metadata": {
    "collapsed": false
   },
   "outputs": [],
   "source": [
    "count_vectorizer_1g = CountVectorizer(analyzer='word', tokenizer=lambda x: x, lowercase=False)\n",
    "count_vectorizer_2g = CountVectorizer(analyzer='word', tokenizer=lambda x: x, lowercase=False, ngram_range=(2, 2))\n",
    "count_vectorizer_all= CountVectorizer(analyzer='word', tokenizer=lambda x: x, lowercase=False, ngram_range=(1, 2))\n",
    "\n",
    "tf = TfidfTransformer(use_idf=False)\n",
    "tfidf = TfidfTransformer()\n",
    "\n",
    "counters = [('unigram', count_vectorizer_1g), \n",
    "            ('bigram', count_vectorizer_2g),\n",
    "            ('ngram', count_vectorizer_all)]\n",
    "\n",
    "norm = [('tf', tf), ('tf-idf', tfidf)]"
   ]
  },
  {
   "cell_type": "code",
   "execution_count": 201,
   "metadata": {
    "collapsed": false
   },
   "outputs": [
    {
     "name": "stderr",
     "output_type": "stream",
     "text": [
      "100%|██████████| 4/4 [00:13<00:00,  3.30s/it]\n"
     ]
    }
   ],
   "source": [
    "X_train = dict()\n",
    "X_dev = dict()\n",
    "for tema in tqdm(temas):\n",
    "    for name, cnt in counters:\n",
    "        X = cnt.fit_transform(train[tema] + dev[tema])\n",
    "        X_train[(tema, name)], X_dev[(tema, name)] = X[:len(train[tema])], X[len(train[tema]):]"
   ]
  },
  {
   "cell_type": "code",
   "execution_count": 202,
   "metadata": {
    "collapsed": false
   },
   "outputs": [
    {
     "data": {
      "text/plain": [
       "{(1, 'bigram'): <36886x165980 sparse matrix of type '<class 'numpy.int64'>'\n",
       " \twith 368637 stored elements in Compressed Sparse Row format>,\n",
       " (1, 'ngram'): <36886x176565 sparse matrix of type '<class 'numpy.int64'>'\n",
       " \twith 750538 stored elements in Compressed Sparse Row format>,\n",
       " (1, 'unigram'): <36886x10586 sparse matrix of type '<class 'numpy.int64'>'\n",
       " \twith 381901 stored elements in Compressed Sparse Row format>,\n",
       " (2, 'bigram'): <34963x151152 sparse matrix of type '<class 'numpy.int64'>'\n",
       " \twith 346652 stored elements in Compressed Sparse Row format>,\n",
       " (2, 'ngram'): <34963x161391 sparse matrix of type '<class 'numpy.int64'>'\n",
       " \twith 704960 stored elements in Compressed Sparse Row format>,\n",
       " (2, 'unigram'): <34963x10240 sparse matrix of type '<class 'numpy.int64'>'\n",
       " \twith 358308 stored elements in Compressed Sparse Row format>,\n",
       " (3, 'bigram'): <32104x117642 sparse matrix of type '<class 'numpy.int64'>'\n",
       " \twith 275687 stored elements in Compressed Sparse Row format>,\n",
       " (3, 'ngram'): <32104x126382 sparse matrix of type '<class 'numpy.int64'>'\n",
       " \twith 566849 stored elements in Compressed Sparse Row format>,\n",
       " (3, 'unigram'): <32104x8741 sparse matrix of type '<class 'numpy.int64'>'\n",
       " \twith 291162 stored elements in Compressed Sparse Row format>,\n",
       " (4, 'bigram'): <31440x132334 sparse matrix of type '<class 'numpy.int64'>'\n",
       " \twith 278453 stored elements in Compressed Sparse Row format>,\n",
       " (4, 'ngram'): <31440x141251 sparse matrix of type '<class 'numpy.int64'>'\n",
       " \twith 574483 stored elements in Compressed Sparse Row format>,\n",
       " (4, 'unigram'): <31440x8918 sparse matrix of type '<class 'numpy.int64'>'\n",
       " \twith 296030 stored elements in Compressed Sparse Row format>}"
      ]
     },
     "execution_count": 202,
     "metadata": {},
     "output_type": "execute_result"
    }
   ],
   "source": [
    "X_train"
   ]
  },
  {
   "cell_type": "code",
   "execution_count": null,
   "metadata": {
    "collapsed": true
   },
   "outputs": [],
   "source": []
  },
  {
   "cell_type": "markdown",
   "metadata": {
    "deletable": true,
    "editable": true
   },
   "source": [
    "# Baseline 1: Conteo de tokens"
   ]
  },
  {
   "cell_type": "code",
   "execution_count": 105,
   "metadata": {
    "collapsed": true,
    "deletable": true,
    "editable": true
   },
   "outputs": [],
   "source": [
    "cnt = CountVectorizer(analyzer='word', tokenizer=lambda x: x, lowercase=False)\n",
    "X = cnt.fit_transform(train + test)\n",
    "X_train, X_test = X[:len(train)], X[len(train):]\n",
    "\n",
    "X_train_dense, X_test_dense = X_train.toarray(), X_test.toarray()"
   ]
  },
  {
   "cell_type": "code",
   "execution_count": 102,
   "metadata": {
    "collapsed": false,
    "deletable": true,
    "editable": true
   },
   "outputs": [
    {
     "name": "stdout",
     "output_type": "stream",
     "text": [
      "X_train: (36886, 8656)\n",
      "y_train: 36886\n",
      "X_test: (4611, 8656)\n",
      "y_test: 4611\n",
      "36886 36886\n",
      "4611 4611\n"
     ]
    }
   ],
   "source": [
    "# sanity checks\n",
    "\n",
    "print(f\"X_train: {X_train.shape}\\ny_train: {len(y_train)}\\nX_test: {X_test.shape}\\ny_test: {len(y_test)}\")\n",
    "print(len(docs_train[1]), len(y_train))\n",
    "print(len(docs_test[1]), len(y_test))"
   ]
  },
  {
   "cell_type": "markdown",
   "metadata": {},
   "source": [
    "## KNN@5"
   ]
  },
  {
   "cell_type": "code",
   "execution_count": 97,
   "metadata": {
    "collapsed": false,
    "deletable": true,
    "editable": true
   },
   "outputs": [
    {
     "data": {
      "text/plain": [
       "0.45304706137497291"
      ]
     },
     "execution_count": 97,
     "metadata": {},
     "output_type": "execute_result"
    }
   ],
   "source": [
    "clf = KNeighborsClassifier(n_neighbors=5)\n",
    "clf.fit(X_train, y_train)\n",
    "predicted = clf.predict(X_test)\n",
    "print(\"Accuracy:\", np.mean(predicted == y_test))"
   ]
  },
  {
   "cell_type": "code",
   "execution_count": 101,
   "metadata": {
    "collapsed": false
   },
   "outputs": [
    {
     "name": "stdout",
     "output_type": "stream",
     "text": [
      "                                                          precision    recall  f1-score   support\n",
      "\n",
      "                                          Amistad cívica       0.06      0.11      0.08        27\n",
      "                                    Autonomía / Libertad       0.37      0.52      0.44       168\n",
      "                                  Bien Común / Comunidad       0.36      0.60      0.45       276\n",
      "                                              Ciudadanía       0.00      0.00      0.00        16\n",
      "                                              Democracia       0.39      0.60      0.47       380\n",
      "                                              Desarrollo       0.25      0.33      0.29        52\n",
      "                                       Descentralización       0.70      0.76      0.73       307\n",
      "                                                Dignidad       0.41      0.42      0.42       193\n",
      "                                              Diversidad       0.24      0.32      0.28        72\n",
      "                                    Emprendimiento libre       0.00      0.00      0.00        24\n",
      "                                       Equidad de género       0.61      0.43      0.50       166\n",
      "                                       Estado de Derecho       0.29      0.26      0.27       144\n",
      "                                            Estado laico       0.93      0.53      0.68       149\n",
      "                                      Identidad cultural       0.18      0.13      0.15        53\n",
      "                                                Igualdad       0.40      0.56      0.47       369\n",
      "                                               Inclusión       0.27      0.14      0.18       123\n",
      "                                Innovación / Creatividad       0.50      0.05      0.09        21\n",
      "                                             Integración       0.00      0.00      0.00        29\n",
      "                                                Justicia       0.47      0.53      0.50       393\n",
      "                                       Multiculturalidad       0.44      0.31      0.37        86\n",
      "                                           Participación       0.40      0.23      0.29       120\n",
      "                                             Patriotismo       1.00      0.11      0.20         9\n",
      "                              Paz / Convivencia pacífica       0.52      0.27      0.35        49\n",
      "                                              Pluralismo       0.00      0.00      0.00        17\n",
      "                                       Plurinacionalismo       0.60      0.41      0.48        69\n",
      "                                                Probidad       0.56      0.27      0.36       100\n",
      "                                               República       0.50      0.16      0.24        19\n",
      "                                                 Respeto       0.27      0.34      0.30       250\n",
      "Respeto / Conservación de la naturaleza o medio ambiente       0.82      0.62      0.71       374\n",
      "                                         Responsabilidad       0.66      0.38      0.48        50\n",
      "                                               Seguridad       0.70      0.53      0.60       127\n",
      "                                               Soberanía       0.81      0.24      0.37        55\n",
      "                                             Solidaridad       0.62      0.30      0.41       126\n",
      "                                           Subsidiaridad       0.89      0.24      0.38        33\n",
      "                                              Tolerancia       0.28      0.12      0.17        64\n",
      "                              Transparencia y publicidad       0.51      0.27      0.35        90\n",
      "                                                  Unidad       0.11      0.36      0.17        11\n",
      "\n",
      "                                             avg / total       0.49      0.45      0.45      4611\n",
      "\n"
     ]
    }
   ],
   "source": [
    "print(metrics.classification_report(y_test, predicted, target_names=target_names))"
   ]
  },
  {
   "cell_type": "markdown",
   "metadata": {},
   "source": [
    "## GaussianNB"
   ]
  },
  {
   "cell_type": "code",
   "execution_count": 106,
   "metadata": {
    "collapsed": false
   },
   "outputs": [
    {
     "name": "stdout",
     "output_type": "stream",
     "text": [
      "Accuracy: 0.147256560399\n"
     ]
    }
   ],
   "source": [
    "clf = GaussianNB()\n",
    "clf.fit(X_train_dense, y_train)\n",
    "predicted = clf.predict(X_test_dense)\n",
    "print(\"Accuracy:\", np.mean(predicted == y_test))"
   ]
  },
  {
   "cell_type": "code",
   "execution_count": 108,
   "metadata": {
    "collapsed": false
   },
   "outputs": [
    {
     "name": "stdout",
     "output_type": "stream",
     "text": [
      "                                                          precision    recall  f1-score   support\n",
      "\n",
      "                                          Amistad cívica       0.02      0.11      0.03        27\n",
      "                                    Autonomía / Libertad       0.28      0.17      0.21       168\n",
      "                                  Bien Común / Comunidad       0.17      0.06      0.09       276\n",
      "                                              Ciudadanía       0.01      0.12      0.02        16\n",
      "                                              Democracia       0.32      0.08      0.13       380\n",
      "                                              Desarrollo       0.04      0.12      0.06        52\n",
      "                                       Descentralización       0.55      0.26      0.35       307\n",
      "                                                Dignidad       0.24      0.13      0.17       193\n",
      "                                              Diversidad       0.05      0.08      0.06        72\n",
      "                                    Emprendimiento libre       0.05      0.25      0.08        24\n",
      "                                       Equidad de género       0.40      0.22      0.29       166\n",
      "                                       Estado de Derecho       0.16      0.17      0.16       144\n",
      "                                            Estado laico       0.52      0.30      0.38       149\n",
      "                                      Identidad cultural       0.20      0.23      0.21        53\n",
      "                                                Igualdad       0.16      0.03      0.05       369\n",
      "                                               Inclusión       0.09      0.10      0.09       123\n",
      "                                Innovación / Creatividad       0.10      0.38      0.15        21\n",
      "                                             Integración       0.01      0.07      0.02        29\n",
      "                                                Justicia       0.34      0.08      0.13       393\n",
      "                                       Multiculturalidad       0.06      0.07      0.06        86\n",
      "                                           Participación       0.13      0.13      0.13       120\n",
      "                                             Patriotismo       0.01      0.22      0.03         9\n",
      "                              Paz / Convivencia pacífica       0.07      0.16      0.10        49\n",
      "                                              Pluralismo       0.01      0.24      0.02        17\n",
      "                                       Plurinacionalismo       0.13      0.28      0.18        69\n",
      "                                                Probidad       0.27      0.20      0.23       100\n",
      "                                               República       0.05      0.32      0.08        19\n",
      "                                                 Respeto       0.10      0.03      0.05       250\n",
      "Respeto / Conservación de la naturaleza o medio ambiente       0.67      0.23      0.34       374\n",
      "                                         Responsabilidad       0.06      0.18      0.09        50\n",
      "                                               Seguridad       0.34      0.28      0.30       127\n",
      "                                               Soberanía       0.11      0.22      0.15        55\n",
      "                                             Solidaridad       0.18      0.13      0.15       126\n",
      "                                           Subsidiaridad       0.07      0.30      0.12        33\n",
      "                                              Tolerancia       0.03      0.05      0.03        64\n",
      "                              Transparencia y publicidad       0.20      0.30      0.24        90\n",
      "                                                  Unidad       0.02      0.27      0.03        11\n",
      "\n",
      "                                             avg / total       0.27      0.15      0.17      4611\n",
      "\n"
     ]
    }
   ],
   "source": [
    "print(metrics.classification_report(y_test, predicted, target_names=target_names))"
   ]
  },
  {
   "cell_type": "markdown",
   "metadata": {},
   "source": [
    "## Multinomial NB"
   ]
  },
  {
   "cell_type": "code",
   "execution_count": 109,
   "metadata": {
    "collapsed": false
   },
   "outputs": [
    {
     "name": "stdout",
     "output_type": "stream",
     "text": [
      "Accuracy: 0.615267837779\n",
      "                                                          precision    recall  f1-score   support\n",
      "\n",
      "                                          Amistad cívica       1.00      0.04      0.07        27\n",
      "                                    Autonomía / Libertad       0.65      0.63      0.64       168\n",
      "                                  Bien Común / Comunidad       0.52      0.75      0.61       276\n",
      "                                              Ciudadanía       0.00      0.00      0.00        16\n",
      "                                              Democracia       0.50      0.81      0.62       380\n",
      "                                              Desarrollo       0.78      0.13      0.23        52\n",
      "                                       Descentralización       0.82      0.94      0.88       307\n",
      "                                                Dignidad       0.60      0.64      0.62       193\n",
      "                                              Diversidad       0.42      0.11      0.18        72\n",
      "                                    Emprendimiento libre       0.75      0.12      0.21        24\n",
      "                                       Equidad de género       0.77      0.60      0.67       166\n",
      "                                       Estado de Derecho       0.60      0.36      0.45       144\n",
      "                                            Estado laico       0.90      0.86      0.88       149\n",
      "                                      Identidad cultural       0.80      0.23      0.35        53\n",
      "                                                Igualdad       0.49      0.73      0.59       369\n",
      "                                               Inclusión       0.55      0.40      0.46       123\n",
      "                                Innovación / Creatividad       1.00      0.24      0.38        21\n",
      "                                             Integración       0.00      0.00      0.00        29\n",
      "                                                Justicia       0.61      0.70      0.65       393\n",
      "                                       Multiculturalidad       0.44      0.63      0.52        86\n",
      "                                           Participación       0.70      0.28      0.40       120\n",
      "                                             Patriotismo       0.00      0.00      0.00         9\n",
      "                              Paz / Convivencia pacífica       0.89      0.16      0.28        49\n",
      "                                              Pluralismo       0.00      0.00      0.00        17\n",
      "                                       Plurinacionalismo       0.72      0.59      0.65        69\n",
      "                                                Probidad       0.71      0.51      0.59       100\n",
      "                                               República       1.00      0.05      0.10        19\n",
      "                                                 Respeto       0.42      0.58      0.49       250\n",
      "Respeto / Conservación de la naturaleza o medio ambiente       0.77      0.90      0.83       374\n",
      "                                         Responsabilidad       0.88      0.14      0.24        50\n",
      "                                               Seguridad       0.81      0.67      0.73       127\n",
      "                                               Soberanía       0.91      0.36      0.52        55\n",
      "                                             Solidaridad       0.77      0.43      0.55       126\n",
      "                                           Subsidiaridad       1.00      0.24      0.39        33\n",
      "                                              Tolerancia       0.50      0.05      0.09        64\n",
      "                              Transparencia y publicidad       0.75      0.52      0.61        90\n",
      "                                                  Unidad       1.00      0.09      0.17        11\n",
      "\n",
      "                                             avg / total       0.64      0.62      0.59      4611\n",
      "\n"
     ]
    },
    {
     "name": "stderr",
     "output_type": "stream",
     "text": [
      "/Users/mquezada/anaconda3/envs/ams/lib/python3.6/site-packages/sklearn/metrics/classification.py:1113: UndefinedMetricWarning: Precision and F-score are ill-defined and being set to 0.0 in labels with no predicted samples.\n",
      "  'precision', 'predicted', average, warn_for)\n"
     ]
    }
   ],
   "source": [
    "clf = MultinomialNB()\n",
    "clf.fit(X_train_dense, y_train)\n",
    "predicted = clf.predict(X_test_dense)\n",
    "print(\"Accuracy:\", np.mean(predicted == y_test))\n",
    "print(metrics.classification_report(y_test, predicted, target_names=target_names))"
   ]
  },
  {
   "cell_type": "markdown",
   "metadata": {},
   "source": [
    "## Dummy stratified"
   ]
  },
  {
   "cell_type": "code",
   "execution_count": 112,
   "metadata": {
    "collapsed": false
   },
   "outputs": [
    {
     "name": "stdout",
     "output_type": "stream",
     "text": [
      "Accuracy: 0.0483626111473\n",
      "                                                          precision    recall  f1-score   support\n",
      "\n",
      "                                          Amistad cívica       0.00      0.00      0.00        27\n",
      "                                    Autonomía / Libertad       0.04      0.04      0.04       168\n",
      "                                  Bien Común / Comunidad       0.05      0.05      0.05       276\n",
      "                                              Ciudadanía       0.00      0.00      0.00        16\n",
      "                                              Democracia       0.06      0.06      0.06       380\n",
      "                                              Desarrollo       0.02      0.02      0.02        52\n",
      "                                       Descentralización       0.07      0.07      0.07       307\n",
      "                                                Dignidad       0.05      0.05      0.05       193\n",
      "                                              Diversidad       0.00      0.00      0.00        72\n",
      "                                    Emprendimiento libre       0.05      0.04      0.04        24\n",
      "                                       Equidad de género       0.04      0.05      0.05       166\n",
      "                                       Estado de Derecho       0.01      0.01      0.01       144\n",
      "                                            Estado laico       0.03      0.03      0.03       149\n",
      "                                      Identidad cultural       0.02      0.02      0.02        53\n",
      "                                                Igualdad       0.10      0.10      0.10       369\n",
      "                                               Inclusión       0.02      0.02      0.02       123\n",
      "                                Innovación / Creatividad       0.00      0.00      0.00        21\n",
      "                                             Integración       0.00      0.00      0.00        29\n",
      "                                                Justicia       0.08      0.08      0.08       393\n",
      "                                       Multiculturalidad       0.03      0.02      0.03        86\n",
      "                                           Participación       0.03      0.03      0.03       120\n",
      "                                             Patriotismo       0.00      0.00      0.00         9\n",
      "                              Paz / Convivencia pacífica       0.02      0.02      0.02        49\n",
      "                                              Pluralismo       0.00      0.00      0.00        17\n",
      "                                       Plurinacionalismo       0.03      0.03      0.03        69\n",
      "                                                Probidad       0.02      0.02      0.02       100\n",
      "                                               República       0.00      0.00      0.00        19\n",
      "                                                 Respeto       0.05      0.05      0.05       250\n",
      "Respeto / Conservación de la naturaleza o medio ambiente       0.07      0.07      0.07       374\n",
      "                                         Responsabilidad       0.00      0.00      0.00        50\n",
      "                                               Seguridad       0.06      0.06      0.06       127\n",
      "                                               Soberanía       0.00      0.00      0.00        55\n",
      "                                             Solidaridad       0.04      0.04      0.04       126\n",
      "                                           Subsidiaridad       0.00      0.00      0.00        33\n",
      "                                              Tolerancia       0.03      0.03      0.03        64\n",
      "                              Transparencia y publicidad       0.01      0.01      0.01        90\n",
      "                                                  Unidad       0.00      0.00      0.00        11\n",
      "\n",
      "                                             avg / total       0.05      0.05      0.05      4611\n",
      "\n"
     ]
    }
   ],
   "source": [
    "clf = DummyClassifier(strategy='stratified')\n",
    "clf.fit(X_train_dense, y_train)\n",
    "predicted = clf.predict(X_test_dense)\n",
    "print(\"Accuracy:\", np.mean(predicted == y_test))\n",
    "print(metrics.classification_report(y_test, predicted, target_names=target_names))"
   ]
  },
  {
   "cell_type": "markdown",
   "metadata": {},
   "source": [
    "# Baseline 2: Conteo + TF"
   ]
  },
  {
   "cell_type": "code",
   "execution_count": 117,
   "metadata": {
    "collapsed": false
   },
   "outputs": [
    {
     "name": "stdout",
     "output_type": "stream",
     "text": [
      "CPU times: user 1min 35s, sys: 2.53 s, total: 1min 37s\n",
      "Wall time: 1min 44s\n"
     ]
    }
   ],
   "source": [
    "text_clf = Pipeline([('vect', CountVectorizer(analyzer='word', tokenizer=lambda x: x, lowercase=False)),\n",
    "                     ('tf', TfidfTransformer(use_idf=False)),\n",
    "                     ('clf', MultinomialNB())])\n",
    "\n",
    "%time clf = text_clf.fit(X_train_dense, y_train)"
   ]
  },
  {
   "cell_type": "code",
   "execution_count": 118,
   "metadata": {
    "collapsed": false
   },
   "outputs": [
    {
     "name": "stdout",
     "output_type": "stream",
     "text": [
      "Accuracy: 0.0852309694209\n",
      "                                                          precision    recall  f1-score   support\n",
      "\n",
      "                                          Amistad cívica       0.00      0.00      0.00        27\n",
      "                                    Autonomía / Libertad       0.00      0.00      0.00       168\n",
      "                                  Bien Común / Comunidad       0.00      0.00      0.00       276\n",
      "                                              Ciudadanía       0.00      0.00      0.00        16\n",
      "                                              Democracia       0.00      0.00      0.00       380\n",
      "                                              Desarrollo       0.00      0.00      0.00        52\n",
      "                                       Descentralización       0.00      0.00      0.00       307\n",
      "                                                Dignidad       0.00      0.00      0.00       193\n",
      "                                              Diversidad       0.00      0.00      0.00        72\n",
      "                                    Emprendimiento libre       0.00      0.00      0.00        24\n",
      "                                       Equidad de género       0.00      0.00      0.00       166\n",
      "                                       Estado de Derecho       0.00      0.00      0.00       144\n",
      "                                            Estado laico       0.00      0.00      0.00       149\n",
      "                                      Identidad cultural       0.00      0.00      0.00        53\n",
      "                                                Igualdad       0.00      0.00      0.00       369\n",
      "                                               Inclusión       0.00      0.00      0.00       123\n",
      "                                Innovación / Creatividad       0.00      0.00      0.00        21\n",
      "                                             Integración       0.00      0.00      0.00        29\n",
      "                                                Justicia       0.09      1.00      0.16       393\n",
      "                                       Multiculturalidad       0.00      0.00      0.00        86\n",
      "                                           Participación       0.00      0.00      0.00       120\n",
      "                                             Patriotismo       0.00      0.00      0.00         9\n",
      "                              Paz / Convivencia pacífica       0.00      0.00      0.00        49\n",
      "                                              Pluralismo       0.00      0.00      0.00        17\n",
      "                                       Plurinacionalismo       0.00      0.00      0.00        69\n",
      "                                                Probidad       0.00      0.00      0.00       100\n",
      "                                               República       0.00      0.00      0.00        19\n",
      "                                                 Respeto       0.00      0.00      0.00       250\n",
      "Respeto / Conservación de la naturaleza o medio ambiente       0.00      0.00      0.00       374\n",
      "                                         Responsabilidad       0.00      0.00      0.00        50\n",
      "                                               Seguridad       0.00      0.00      0.00       127\n",
      "                                               Soberanía       0.00      0.00      0.00        55\n",
      "                                             Solidaridad       0.00      0.00      0.00       126\n",
      "                                           Subsidiaridad       0.00      0.00      0.00        33\n",
      "                                              Tolerancia       0.00      0.00      0.00        64\n",
      "                              Transparencia y publicidad       0.00      0.00      0.00        90\n",
      "                                                  Unidad       0.00      0.00      0.00        11\n",
      "\n",
      "                                             avg / total       0.01      0.09      0.01      4611\n",
      "\n"
     ]
    },
    {
     "name": "stderr",
     "output_type": "stream",
     "text": [
      "/Users/mquezada/anaconda3/envs/ams/lib/python3.6/site-packages/sklearn/metrics/classification.py:1113: UndefinedMetricWarning: Precision and F-score are ill-defined and being set to 0.0 in labels with no predicted samples.\n",
      "  'precision', 'predicted', average, warn_for)\n"
     ]
    }
   ],
   "source": [
    "predicted = clf.predict(X_test_dense)\n",
    "print(\"Accuracy:\", np.mean(predicted == y_test))\n",
    "print(metrics.classification_report(y_test, predicted, target_names=target_names))"
   ]
  },
  {
   "cell_type": "code",
   "execution_count": null,
   "metadata": {
    "collapsed": true
   },
   "outputs": [],
   "source": []
  }
 ],
 "metadata": {
  "kernelspec": {
   "display_name": "Python 3",
   "language": "python",
   "name": "python3"
  },
  "language_info": {
   "codemirror_mode": {
    "name": "ipython",
    "version": 3
   },
   "file_extension": ".py",
   "mimetype": "text/x-python",
   "name": "python",
   "nbconvert_exporter": "python",
   "pygments_lexer": "ipython3",
   "version": "3.6.0"
  }
 },
 "nbformat": 4,
 "nbformat_minor": 2
}
